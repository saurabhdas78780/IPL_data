{
 "cells": [
  {
   "cell_type": "markdown",
   "id": "8cd1a5ba",
   "metadata": {},
   "source": [
    "Exploratory data analysis is used by data scientists to analyze and investigate data sets and summarize their main characteristics, often employing data visualization methods. It helps determine how best to manipulate data sources to get the answers you need, making it easier for data scientists to discover patterns, spot anomalies, test a hypothesis, or check assumptions. EDA is primarily used to see what data can reveal beyond the formal modeling or hypothesis testing task and provides a better understanding of data set variables and the relationships between them. It can also help determine if the statistical techniques you are considering for data analysis are appropriate or not."
   ]
  },
  {
   "cell_type": "code",
   "execution_count": 2,
   "id": "f73e1545",
   "metadata": {},
   "outputs": [],
   "source": [
    "import pandas as pd\n",
    "import numpy as np\n",
    "import seaborn as sns\n",
    "import matplotlib.pyplot as plt\n",
    "%matplotlib inline\n",
    "import statistics\n",
    "import warnings\n",
    "warnings.filterwarnings('ignore')"
   ]
  },
  {
   "cell_type": "code",
   "execution_count": 3,
   "id": "4dbb8bce",
   "metadata": {},
   "outputs": [],
   "source": [
    "data=pd.read_csv(\"matches.csv\")"
   ]
  },
  {
   "cell_type": "code",
   "execution_count": 4,
   "id": "f8fa7933",
   "metadata": {},
   "outputs": [
    {
     "data": {
      "text/html": [
       "<div>\n",
       "<style scoped>\n",
       "    .dataframe tbody tr th:only-of-type {\n",
       "        vertical-align: middle;\n",
       "    }\n",
       "\n",
       "    .dataframe tbody tr th {\n",
       "        vertical-align: top;\n",
       "    }\n",
       "\n",
       "    .dataframe thead th {\n",
       "        text-align: right;\n",
       "    }\n",
       "</style>\n",
       "<table border=\"1\" class=\"dataframe\">\n",
       "  <thead>\n",
       "    <tr style=\"text-align: right;\">\n",
       "      <th></th>\n",
       "      <th>id</th>\n",
       "      <th>season</th>\n",
       "      <th>city</th>\n",
       "      <th>date</th>\n",
       "      <th>team1</th>\n",
       "      <th>team2</th>\n",
       "      <th>toss_winner</th>\n",
       "      <th>toss_decision</th>\n",
       "      <th>result</th>\n",
       "      <th>dl_applied</th>\n",
       "      <th>winner</th>\n",
       "      <th>win_by_runs</th>\n",
       "      <th>win_by_wickets</th>\n",
       "      <th>player_of_match</th>\n",
       "      <th>venue</th>\n",
       "      <th>umpire1</th>\n",
       "      <th>umpire2</th>\n",
       "      <th>umpire3</th>\n",
       "    </tr>\n",
       "  </thead>\n",
       "  <tbody>\n",
       "    <tr>\n",
       "      <th>0</th>\n",
       "      <td>1</td>\n",
       "      <td>2017</td>\n",
       "      <td>Hyderabad</td>\n",
       "      <td>2017-04-05</td>\n",
       "      <td>Sunrisers Hyderabad</td>\n",
       "      <td>Royal Challengers Bangalore</td>\n",
       "      <td>Royal Challengers Bangalore</td>\n",
       "      <td>field</td>\n",
       "      <td>normal</td>\n",
       "      <td>0</td>\n",
       "      <td>Sunrisers Hyderabad</td>\n",
       "      <td>35</td>\n",
       "      <td>0</td>\n",
       "      <td>Yuvraj Singh</td>\n",
       "      <td>Rajiv Gandhi International Stadium, Uppal</td>\n",
       "      <td>AY Dandekar</td>\n",
       "      <td>NJ Llong</td>\n",
       "      <td>NaN</td>\n",
       "    </tr>\n",
       "    <tr>\n",
       "      <th>1</th>\n",
       "      <td>2</td>\n",
       "      <td>2017</td>\n",
       "      <td>Pune</td>\n",
       "      <td>2017-04-06</td>\n",
       "      <td>Mumbai Indians</td>\n",
       "      <td>Rising Pune Supergiant</td>\n",
       "      <td>Rising Pune Supergiant</td>\n",
       "      <td>field</td>\n",
       "      <td>normal</td>\n",
       "      <td>0</td>\n",
       "      <td>Rising Pune Supergiant</td>\n",
       "      <td>0</td>\n",
       "      <td>7</td>\n",
       "      <td>SPD Smith</td>\n",
       "      <td>Maharashtra Cricket Association Stadium</td>\n",
       "      <td>A Nand Kishore</td>\n",
       "      <td>S Ravi</td>\n",
       "      <td>NaN</td>\n",
       "    </tr>\n",
       "    <tr>\n",
       "      <th>2</th>\n",
       "      <td>3</td>\n",
       "      <td>2017</td>\n",
       "      <td>Rajkot</td>\n",
       "      <td>2017-04-07</td>\n",
       "      <td>Gujarat Lions</td>\n",
       "      <td>Kolkata Knight Riders</td>\n",
       "      <td>Kolkata Knight Riders</td>\n",
       "      <td>field</td>\n",
       "      <td>normal</td>\n",
       "      <td>0</td>\n",
       "      <td>Kolkata Knight Riders</td>\n",
       "      <td>0</td>\n",
       "      <td>10</td>\n",
       "      <td>CA Lynn</td>\n",
       "      <td>Saurashtra Cricket Association Stadium</td>\n",
       "      <td>Nitin Menon</td>\n",
       "      <td>CK Nandan</td>\n",
       "      <td>NaN</td>\n",
       "    </tr>\n",
       "    <tr>\n",
       "      <th>3</th>\n",
       "      <td>4</td>\n",
       "      <td>2017</td>\n",
       "      <td>Indore</td>\n",
       "      <td>2017-04-08</td>\n",
       "      <td>Rising Pune Supergiant</td>\n",
       "      <td>Kings XI Punjab</td>\n",
       "      <td>Kings XI Punjab</td>\n",
       "      <td>field</td>\n",
       "      <td>normal</td>\n",
       "      <td>0</td>\n",
       "      <td>Kings XI Punjab</td>\n",
       "      <td>0</td>\n",
       "      <td>6</td>\n",
       "      <td>GJ Maxwell</td>\n",
       "      <td>Holkar Cricket Stadium</td>\n",
       "      <td>AK Chaudhary</td>\n",
       "      <td>C Shamshuddin</td>\n",
       "      <td>NaN</td>\n",
       "    </tr>\n",
       "    <tr>\n",
       "      <th>4</th>\n",
       "      <td>5</td>\n",
       "      <td>2017</td>\n",
       "      <td>Bangalore</td>\n",
       "      <td>2017-04-08</td>\n",
       "      <td>Royal Challengers Bangalore</td>\n",
       "      <td>Delhi Daredevils</td>\n",
       "      <td>Royal Challengers Bangalore</td>\n",
       "      <td>bat</td>\n",
       "      <td>normal</td>\n",
       "      <td>0</td>\n",
       "      <td>Royal Challengers Bangalore</td>\n",
       "      <td>15</td>\n",
       "      <td>0</td>\n",
       "      <td>KM Jadhav</td>\n",
       "      <td>M Chinnaswamy Stadium</td>\n",
       "      <td>NaN</td>\n",
       "      <td>NaN</td>\n",
       "      <td>NaN</td>\n",
       "    </tr>\n",
       "    <tr>\n",
       "      <th>...</th>\n",
       "      <td>...</td>\n",
       "      <td>...</td>\n",
       "      <td>...</td>\n",
       "      <td>...</td>\n",
       "      <td>...</td>\n",
       "      <td>...</td>\n",
       "      <td>...</td>\n",
       "      <td>...</td>\n",
       "      <td>...</td>\n",
       "      <td>...</td>\n",
       "      <td>...</td>\n",
       "      <td>...</td>\n",
       "      <td>...</td>\n",
       "      <td>...</td>\n",
       "      <td>...</td>\n",
       "      <td>...</td>\n",
       "      <td>...</td>\n",
       "      <td>...</td>\n",
       "    </tr>\n",
       "    <tr>\n",
       "      <th>631</th>\n",
       "      <td>632</td>\n",
       "      <td>2016</td>\n",
       "      <td>Raipur</td>\n",
       "      <td>2016-05-22</td>\n",
       "      <td>Delhi Daredevils</td>\n",
       "      <td>Royal Challengers Bangalore</td>\n",
       "      <td>Royal Challengers Bangalore</td>\n",
       "      <td>field</td>\n",
       "      <td>normal</td>\n",
       "      <td>0</td>\n",
       "      <td>Royal Challengers Bangalore</td>\n",
       "      <td>0</td>\n",
       "      <td>6</td>\n",
       "      <td>V Kohli</td>\n",
       "      <td>Shaheed Veer Narayan Singh International Stadium</td>\n",
       "      <td>A Nand Kishore</td>\n",
       "      <td>BNJ Oxenford</td>\n",
       "      <td>NaN</td>\n",
       "    </tr>\n",
       "    <tr>\n",
       "      <th>632</th>\n",
       "      <td>633</td>\n",
       "      <td>2016</td>\n",
       "      <td>Bangalore</td>\n",
       "      <td>2016-05-24</td>\n",
       "      <td>Gujarat Lions</td>\n",
       "      <td>Royal Challengers Bangalore</td>\n",
       "      <td>Royal Challengers Bangalore</td>\n",
       "      <td>field</td>\n",
       "      <td>normal</td>\n",
       "      <td>0</td>\n",
       "      <td>Royal Challengers Bangalore</td>\n",
       "      <td>0</td>\n",
       "      <td>4</td>\n",
       "      <td>AB de Villiers</td>\n",
       "      <td>M Chinnaswamy Stadium</td>\n",
       "      <td>AK Chaudhary</td>\n",
       "      <td>HDPK Dharmasena</td>\n",
       "      <td>NaN</td>\n",
       "    </tr>\n",
       "    <tr>\n",
       "      <th>633</th>\n",
       "      <td>634</td>\n",
       "      <td>2016</td>\n",
       "      <td>Delhi</td>\n",
       "      <td>2016-05-25</td>\n",
       "      <td>Sunrisers Hyderabad</td>\n",
       "      <td>Kolkata Knight Riders</td>\n",
       "      <td>Kolkata Knight Riders</td>\n",
       "      <td>field</td>\n",
       "      <td>normal</td>\n",
       "      <td>0</td>\n",
       "      <td>Sunrisers Hyderabad</td>\n",
       "      <td>22</td>\n",
       "      <td>0</td>\n",
       "      <td>MC Henriques</td>\n",
       "      <td>Feroz Shah Kotla</td>\n",
       "      <td>M Erasmus</td>\n",
       "      <td>C Shamshuddin</td>\n",
       "      <td>NaN</td>\n",
       "    </tr>\n",
       "    <tr>\n",
       "      <th>634</th>\n",
       "      <td>635</td>\n",
       "      <td>2016</td>\n",
       "      <td>Delhi</td>\n",
       "      <td>2016-05-27</td>\n",
       "      <td>Gujarat Lions</td>\n",
       "      <td>Sunrisers Hyderabad</td>\n",
       "      <td>Sunrisers Hyderabad</td>\n",
       "      <td>field</td>\n",
       "      <td>normal</td>\n",
       "      <td>0</td>\n",
       "      <td>Sunrisers Hyderabad</td>\n",
       "      <td>0</td>\n",
       "      <td>4</td>\n",
       "      <td>DA Warner</td>\n",
       "      <td>Feroz Shah Kotla</td>\n",
       "      <td>M Erasmus</td>\n",
       "      <td>CK Nandan</td>\n",
       "      <td>NaN</td>\n",
       "    </tr>\n",
       "    <tr>\n",
       "      <th>635</th>\n",
       "      <td>636</td>\n",
       "      <td>2016</td>\n",
       "      <td>Bangalore</td>\n",
       "      <td>2016-05-29</td>\n",
       "      <td>Sunrisers Hyderabad</td>\n",
       "      <td>Royal Challengers Bangalore</td>\n",
       "      <td>Sunrisers Hyderabad</td>\n",
       "      <td>bat</td>\n",
       "      <td>normal</td>\n",
       "      <td>0</td>\n",
       "      <td>Sunrisers Hyderabad</td>\n",
       "      <td>8</td>\n",
       "      <td>0</td>\n",
       "      <td>BCJ Cutting</td>\n",
       "      <td>M Chinnaswamy Stadium</td>\n",
       "      <td>HDPK Dharmasena</td>\n",
       "      <td>BNJ Oxenford</td>\n",
       "      <td>NaN</td>\n",
       "    </tr>\n",
       "  </tbody>\n",
       "</table>\n",
       "<p>636 rows × 18 columns</p>\n",
       "</div>"
      ],
      "text/plain": [
       "      id  season       city        date                        team1  \\\n",
       "0      1    2017  Hyderabad  2017-04-05          Sunrisers Hyderabad   \n",
       "1      2    2017       Pune  2017-04-06               Mumbai Indians   \n",
       "2      3    2017     Rajkot  2017-04-07                Gujarat Lions   \n",
       "3      4    2017     Indore  2017-04-08       Rising Pune Supergiant   \n",
       "4      5    2017  Bangalore  2017-04-08  Royal Challengers Bangalore   \n",
       "..   ...     ...        ...         ...                          ...   \n",
       "631  632    2016     Raipur  2016-05-22             Delhi Daredevils   \n",
       "632  633    2016  Bangalore  2016-05-24                Gujarat Lions   \n",
       "633  634    2016      Delhi  2016-05-25          Sunrisers Hyderabad   \n",
       "634  635    2016      Delhi  2016-05-27                Gujarat Lions   \n",
       "635  636    2016  Bangalore  2016-05-29          Sunrisers Hyderabad   \n",
       "\n",
       "                           team2                  toss_winner toss_decision  \\\n",
       "0    Royal Challengers Bangalore  Royal Challengers Bangalore         field   \n",
       "1         Rising Pune Supergiant       Rising Pune Supergiant         field   \n",
       "2          Kolkata Knight Riders        Kolkata Knight Riders         field   \n",
       "3                Kings XI Punjab              Kings XI Punjab         field   \n",
       "4               Delhi Daredevils  Royal Challengers Bangalore           bat   \n",
       "..                           ...                          ...           ...   \n",
       "631  Royal Challengers Bangalore  Royal Challengers Bangalore         field   \n",
       "632  Royal Challengers Bangalore  Royal Challengers Bangalore         field   \n",
       "633        Kolkata Knight Riders        Kolkata Knight Riders         field   \n",
       "634          Sunrisers Hyderabad          Sunrisers Hyderabad         field   \n",
       "635  Royal Challengers Bangalore          Sunrisers Hyderabad           bat   \n",
       "\n",
       "     result  dl_applied                       winner  win_by_runs  \\\n",
       "0    normal           0          Sunrisers Hyderabad           35   \n",
       "1    normal           0       Rising Pune Supergiant            0   \n",
       "2    normal           0        Kolkata Knight Riders            0   \n",
       "3    normal           0              Kings XI Punjab            0   \n",
       "4    normal           0  Royal Challengers Bangalore           15   \n",
       "..      ...         ...                          ...          ...   \n",
       "631  normal           0  Royal Challengers Bangalore            0   \n",
       "632  normal           0  Royal Challengers Bangalore            0   \n",
       "633  normal           0          Sunrisers Hyderabad           22   \n",
       "634  normal           0          Sunrisers Hyderabad            0   \n",
       "635  normal           0          Sunrisers Hyderabad            8   \n",
       "\n",
       "     win_by_wickets player_of_match  \\\n",
       "0                 0    Yuvraj Singh   \n",
       "1                 7       SPD Smith   \n",
       "2                10         CA Lynn   \n",
       "3                 6      GJ Maxwell   \n",
       "4                 0       KM Jadhav   \n",
       "..              ...             ...   \n",
       "631               6         V Kohli   \n",
       "632               4  AB de Villiers   \n",
       "633               0    MC Henriques   \n",
       "634               4       DA Warner   \n",
       "635               0     BCJ Cutting   \n",
       "\n",
       "                                                venue          umpire1  \\\n",
       "0           Rajiv Gandhi International Stadium, Uppal      AY Dandekar   \n",
       "1             Maharashtra Cricket Association Stadium   A Nand Kishore   \n",
       "2              Saurashtra Cricket Association Stadium      Nitin Menon   \n",
       "3                              Holkar Cricket Stadium     AK Chaudhary   \n",
       "4                               M Chinnaswamy Stadium              NaN   \n",
       "..                                                ...              ...   \n",
       "631  Shaheed Veer Narayan Singh International Stadium   A Nand Kishore   \n",
       "632                             M Chinnaswamy Stadium     AK Chaudhary   \n",
       "633                                  Feroz Shah Kotla        M Erasmus   \n",
       "634                                  Feroz Shah Kotla        M Erasmus   \n",
       "635                             M Chinnaswamy Stadium  HDPK Dharmasena   \n",
       "\n",
       "             umpire2  umpire3  \n",
       "0           NJ Llong      NaN  \n",
       "1             S Ravi      NaN  \n",
       "2          CK Nandan      NaN  \n",
       "3      C Shamshuddin      NaN  \n",
       "4                NaN      NaN  \n",
       "..               ...      ...  \n",
       "631     BNJ Oxenford      NaN  \n",
       "632  HDPK Dharmasena      NaN  \n",
       "633    C Shamshuddin      NaN  \n",
       "634        CK Nandan      NaN  \n",
       "635     BNJ Oxenford      NaN  \n",
       "\n",
       "[636 rows x 18 columns]"
      ]
     },
     "execution_count": 4,
     "metadata": {},
     "output_type": "execute_result"
    }
   ],
   "source": [
    "data"
   ]
  },
  {
   "cell_type": "code",
   "execution_count": 5,
   "id": "967adbcb",
   "metadata": {},
   "outputs": [
    {
     "data": {
      "text/plain": [
       "(636, 18)"
      ]
     },
     "execution_count": 5,
     "metadata": {},
     "output_type": "execute_result"
    }
   ],
   "source": [
    "data.shape"
   ]
  },
  {
   "cell_type": "code",
   "execution_count": 6,
   "id": "8c631c62",
   "metadata": {},
   "outputs": [
    {
     "data": {
      "text/plain": [
       "<bound method DataFrame.info of       id  season       city        date                        team1  \\\n",
       "0      1    2017  Hyderabad  2017-04-05          Sunrisers Hyderabad   \n",
       "1      2    2017       Pune  2017-04-06               Mumbai Indians   \n",
       "2      3    2017     Rajkot  2017-04-07                Gujarat Lions   \n",
       "3      4    2017     Indore  2017-04-08       Rising Pune Supergiant   \n",
       "4      5    2017  Bangalore  2017-04-08  Royal Challengers Bangalore   \n",
       "..   ...     ...        ...         ...                          ...   \n",
       "631  632    2016     Raipur  2016-05-22             Delhi Daredevils   \n",
       "632  633    2016  Bangalore  2016-05-24                Gujarat Lions   \n",
       "633  634    2016      Delhi  2016-05-25          Sunrisers Hyderabad   \n",
       "634  635    2016      Delhi  2016-05-27                Gujarat Lions   \n",
       "635  636    2016  Bangalore  2016-05-29          Sunrisers Hyderabad   \n",
       "\n",
       "                           team2                  toss_winner toss_decision  \\\n",
       "0    Royal Challengers Bangalore  Royal Challengers Bangalore         field   \n",
       "1         Rising Pune Supergiant       Rising Pune Supergiant         field   \n",
       "2          Kolkata Knight Riders        Kolkata Knight Riders         field   \n",
       "3                Kings XI Punjab              Kings XI Punjab         field   \n",
       "4               Delhi Daredevils  Royal Challengers Bangalore           bat   \n",
       "..                           ...                          ...           ...   \n",
       "631  Royal Challengers Bangalore  Royal Challengers Bangalore         field   \n",
       "632  Royal Challengers Bangalore  Royal Challengers Bangalore         field   \n",
       "633        Kolkata Knight Riders        Kolkata Knight Riders         field   \n",
       "634          Sunrisers Hyderabad          Sunrisers Hyderabad         field   \n",
       "635  Royal Challengers Bangalore          Sunrisers Hyderabad           bat   \n",
       "\n",
       "     result  dl_applied                       winner  win_by_runs  \\\n",
       "0    normal           0          Sunrisers Hyderabad           35   \n",
       "1    normal           0       Rising Pune Supergiant            0   \n",
       "2    normal           0        Kolkata Knight Riders            0   \n",
       "3    normal           0              Kings XI Punjab            0   \n",
       "4    normal           0  Royal Challengers Bangalore           15   \n",
       "..      ...         ...                          ...          ...   \n",
       "631  normal           0  Royal Challengers Bangalore            0   \n",
       "632  normal           0  Royal Challengers Bangalore            0   \n",
       "633  normal           0          Sunrisers Hyderabad           22   \n",
       "634  normal           0          Sunrisers Hyderabad            0   \n",
       "635  normal           0          Sunrisers Hyderabad            8   \n",
       "\n",
       "     win_by_wickets player_of_match  \\\n",
       "0                 0    Yuvraj Singh   \n",
       "1                 7       SPD Smith   \n",
       "2                10         CA Lynn   \n",
       "3                 6      GJ Maxwell   \n",
       "4                 0       KM Jadhav   \n",
       "..              ...             ...   \n",
       "631               6         V Kohli   \n",
       "632               4  AB de Villiers   \n",
       "633               0    MC Henriques   \n",
       "634               4       DA Warner   \n",
       "635               0     BCJ Cutting   \n",
       "\n",
       "                                                venue          umpire1  \\\n",
       "0           Rajiv Gandhi International Stadium, Uppal      AY Dandekar   \n",
       "1             Maharashtra Cricket Association Stadium   A Nand Kishore   \n",
       "2              Saurashtra Cricket Association Stadium      Nitin Menon   \n",
       "3                              Holkar Cricket Stadium     AK Chaudhary   \n",
       "4                               M Chinnaswamy Stadium              NaN   \n",
       "..                                                ...              ...   \n",
       "631  Shaheed Veer Narayan Singh International Stadium   A Nand Kishore   \n",
       "632                             M Chinnaswamy Stadium     AK Chaudhary   \n",
       "633                                  Feroz Shah Kotla        M Erasmus   \n",
       "634                                  Feroz Shah Kotla        M Erasmus   \n",
       "635                             M Chinnaswamy Stadium  HDPK Dharmasena   \n",
       "\n",
       "             umpire2  umpire3  \n",
       "0           NJ Llong      NaN  \n",
       "1             S Ravi      NaN  \n",
       "2          CK Nandan      NaN  \n",
       "3      C Shamshuddin      NaN  \n",
       "4                NaN      NaN  \n",
       "..               ...      ...  \n",
       "631     BNJ Oxenford      NaN  \n",
       "632  HDPK Dharmasena      NaN  \n",
       "633    C Shamshuddin      NaN  \n",
       "634        CK Nandan      NaN  \n",
       "635     BNJ Oxenford      NaN  \n",
       "\n",
       "[636 rows x 18 columns]>"
      ]
     },
     "execution_count": 6,
     "metadata": {},
     "output_type": "execute_result"
    }
   ],
   "source": [
    "data.info"
   ]
  },
  {
   "cell_type": "code",
   "execution_count": 7,
   "id": "7f665008",
   "metadata": {},
   "outputs": [
    {
     "data": {
      "text/plain": [
       "Index(['id', 'season', 'city', 'date', 'team1', 'team2', 'toss_winner',\n",
       "       'toss_decision', 'result', 'dl_applied', 'winner', 'win_by_runs',\n",
       "       'win_by_wickets', 'player_of_match', 'venue', 'umpire1', 'umpire2',\n",
       "       'umpire3'],\n",
       "      dtype='object')"
      ]
     },
     "execution_count": 7,
     "metadata": {},
     "output_type": "execute_result"
    }
   ],
   "source": [
    "data.columns"
   ]
  },
  {
   "cell_type": "code",
   "execution_count": 8,
   "id": "2a8ee2f9",
   "metadata": {},
   "outputs": [
    {
     "data": {
      "text/plain": [
       "id                 False\n",
       "season             False\n",
       "city                True\n",
       "date               False\n",
       "team1              False\n",
       "team2              False\n",
       "toss_winner        False\n",
       "toss_decision      False\n",
       "result             False\n",
       "dl_applied         False\n",
       "winner              True\n",
       "win_by_runs        False\n",
       "win_by_wickets     False\n",
       "player_of_match     True\n",
       "venue              False\n",
       "umpire1             True\n",
       "umpire2             True\n",
       "umpire3             True\n",
       "dtype: bool"
      ]
     },
     "execution_count": 8,
     "metadata": {},
     "output_type": "execute_result"
    }
   ],
   "source": [
    "data.isna().any()"
   ]
  },
  {
   "cell_type": "code",
   "execution_count": 9,
   "id": "a9c751f6",
   "metadata": {},
   "outputs": [
    {
     "data": {
      "text/html": [
       "<div>\n",
       "<style scoped>\n",
       "    .dataframe tbody tr th:only-of-type {\n",
       "        vertical-align: middle;\n",
       "    }\n",
       "\n",
       "    .dataframe tbody tr th {\n",
       "        vertical-align: top;\n",
       "    }\n",
       "\n",
       "    .dataframe thead th {\n",
       "        text-align: right;\n",
       "    }\n",
       "</style>\n",
       "<table border=\"1\" class=\"dataframe\">\n",
       "  <thead>\n",
       "    <tr style=\"text-align: right;\">\n",
       "      <th></th>\n",
       "      <th>id</th>\n",
       "      <th>season</th>\n",
       "      <th>dl_applied</th>\n",
       "      <th>win_by_runs</th>\n",
       "      <th>win_by_wickets</th>\n",
       "      <th>umpire3</th>\n",
       "    </tr>\n",
       "  </thead>\n",
       "  <tbody>\n",
       "    <tr>\n",
       "      <th>count</th>\n",
       "      <td>636.000000</td>\n",
       "      <td>636.000000</td>\n",
       "      <td>636.000000</td>\n",
       "      <td>636.000000</td>\n",
       "      <td>636.000000</td>\n",
       "      <td>0.0</td>\n",
       "    </tr>\n",
       "    <tr>\n",
       "      <th>mean</th>\n",
       "      <td>318.500000</td>\n",
       "      <td>2012.490566</td>\n",
       "      <td>0.025157</td>\n",
       "      <td>13.682390</td>\n",
       "      <td>3.372642</td>\n",
       "      <td>NaN</td>\n",
       "    </tr>\n",
       "    <tr>\n",
       "      <th>std</th>\n",
       "      <td>183.741666</td>\n",
       "      <td>2.773026</td>\n",
       "      <td>0.156726</td>\n",
       "      <td>23.908877</td>\n",
       "      <td>3.420338</td>\n",
       "      <td>NaN</td>\n",
       "    </tr>\n",
       "    <tr>\n",
       "      <th>min</th>\n",
       "      <td>1.000000</td>\n",
       "      <td>2008.000000</td>\n",
       "      <td>0.000000</td>\n",
       "      <td>0.000000</td>\n",
       "      <td>0.000000</td>\n",
       "      <td>NaN</td>\n",
       "    </tr>\n",
       "    <tr>\n",
       "      <th>25%</th>\n",
       "      <td>159.750000</td>\n",
       "      <td>2010.000000</td>\n",
       "      <td>0.000000</td>\n",
       "      <td>0.000000</td>\n",
       "      <td>0.000000</td>\n",
       "      <td>NaN</td>\n",
       "    </tr>\n",
       "    <tr>\n",
       "      <th>50%</th>\n",
       "      <td>318.500000</td>\n",
       "      <td>2012.000000</td>\n",
       "      <td>0.000000</td>\n",
       "      <td>0.000000</td>\n",
       "      <td>4.000000</td>\n",
       "      <td>NaN</td>\n",
       "    </tr>\n",
       "    <tr>\n",
       "      <th>75%</th>\n",
       "      <td>477.250000</td>\n",
       "      <td>2015.000000</td>\n",
       "      <td>0.000000</td>\n",
       "      <td>20.000000</td>\n",
       "      <td>7.000000</td>\n",
       "      <td>NaN</td>\n",
       "    </tr>\n",
       "    <tr>\n",
       "      <th>max</th>\n",
       "      <td>636.000000</td>\n",
       "      <td>2017.000000</td>\n",
       "      <td>1.000000</td>\n",
       "      <td>146.000000</td>\n",
       "      <td>10.000000</td>\n",
       "      <td>NaN</td>\n",
       "    </tr>\n",
       "  </tbody>\n",
       "</table>\n",
       "</div>"
      ],
      "text/plain": [
       "               id       season  dl_applied  win_by_runs  win_by_wickets  \\\n",
       "count  636.000000   636.000000  636.000000   636.000000      636.000000   \n",
       "mean   318.500000  2012.490566    0.025157    13.682390        3.372642   \n",
       "std    183.741666     2.773026    0.156726    23.908877        3.420338   \n",
       "min      1.000000  2008.000000    0.000000     0.000000        0.000000   \n",
       "25%    159.750000  2010.000000    0.000000     0.000000        0.000000   \n",
       "50%    318.500000  2012.000000    0.000000     0.000000        4.000000   \n",
       "75%    477.250000  2015.000000    0.000000    20.000000        7.000000   \n",
       "max    636.000000  2017.000000    1.000000   146.000000       10.000000   \n",
       "\n",
       "       umpire3  \n",
       "count      0.0  \n",
       "mean       NaN  \n",
       "std        NaN  \n",
       "min        NaN  \n",
       "25%        NaN  \n",
       "50%        NaN  \n",
       "75%        NaN  \n",
       "max        NaN  "
      ]
     },
     "execution_count": 9,
     "metadata": {},
     "output_type": "execute_result"
    }
   ],
   "source": [
    "data.describe()"
   ]
  },
  {
   "cell_type": "code",
   "execution_count": 10,
   "id": "19936a72",
   "metadata": {},
   "outputs": [
    {
     "data": {
      "text/plain": [
       "636"
      ]
     },
     "execution_count": 10,
     "metadata": {},
     "output_type": "execute_result"
    }
   ],
   "source": [
    "data[\"id\"].count()"
   ]
  },
  {
   "cell_type": "code",
   "execution_count": 11,
   "id": "7da1acbb",
   "metadata": {},
   "outputs": [
    {
     "data": {
      "text/plain": [
       "array([2017, 2008, 2009, 2010, 2011, 2012, 2013, 2014, 2015, 2016],\n",
       "      dtype=int64)"
      ]
     },
     "execution_count": 11,
     "metadata": {},
     "output_type": "execute_result"
    }
   ],
   "source": [
    "data[\"season\"].unique()"
   ]
  },
  {
   "cell_type": "markdown",
   "id": "e97b762c",
   "metadata": {},
   "source": [
    "which ipl team won by scoring the maximum runs?"
   ]
  },
  {
   "cell_type": "code",
   "execution_count": 12,
   "id": "c7c7bc68",
   "metadata": {},
   "outputs": [
    {
     "data": {
      "text/plain": [
       "id                               44\n",
       "season                         2017\n",
       "city                          Delhi\n",
       "date                     2017-05-06\n",
       "team1                Mumbai Indians\n",
       "team2              Delhi Daredevils\n",
       "toss_winner        Delhi Daredevils\n",
       "toss_decision                 field\n",
       "result                       normal\n",
       "dl_applied                        0\n",
       "winner               Mumbai Indians\n",
       "win_by_runs                     146\n",
       "win_by_wickets                    0\n",
       "player_of_match         LMP Simmons\n",
       "venue              Feroz Shah Kotla\n",
       "umpire1                 Nitin Menon\n",
       "umpire2                   CK Nandan\n",
       "umpire3                         NaN\n",
       "Name: 43, dtype: object"
      ]
     },
     "execution_count": 12,
     "metadata": {},
     "output_type": "execute_result"
    }
   ],
   "source": [
    "data.iloc[data[\"win_by_runs\"].idxmax()]"
   ]
  },
  {
   "cell_type": "markdown",
   "id": "c675ca9d",
   "metadata": {},
   "source": [
    "which ipl team won by consuming maximum wickets"
   ]
  },
  {
   "cell_type": "code",
   "execution_count": 13,
   "id": "c01818bd",
   "metadata": {},
   "outputs": [
    {
     "data": {
      "text/plain": [
       "id                                                      3\n",
       "season                                               2017\n",
       "city                                               Rajkot\n",
       "date                                           2017-04-07\n",
       "team1                                       Gujarat Lions\n",
       "team2                               Kolkata Knight Riders\n",
       "toss_winner                         Kolkata Knight Riders\n",
       "toss_decision                                       field\n",
       "result                                             normal\n",
       "dl_applied                                              0\n",
       "winner                              Kolkata Knight Riders\n",
       "win_by_runs                                             0\n",
       "win_by_wickets                                         10\n",
       "player_of_match                                   CA Lynn\n",
       "venue              Saurashtra Cricket Association Stadium\n",
       "umpire1                                       Nitin Menon\n",
       "umpire2                                         CK Nandan\n",
       "umpire3                                               NaN\n",
       "Name: 2, dtype: object"
      ]
     },
     "execution_count": 13,
     "metadata": {},
     "output_type": "execute_result"
    }
   ],
   "source": [
    "data.iloc[data[\"win_by_wickets\"].idxmax()]"
   ]
  },
  {
   "cell_type": "markdown",
   "id": "5a8c9cb0",
   "metadata": {},
   "source": [
    "which ipl team won by taking minimum wickets"
   ]
  },
  {
   "cell_type": "code",
   "execution_count": 14,
   "id": "6fc189a3",
   "metadata": {},
   "outputs": [
    {
     "data": {
      "text/plain": [
       "id                                                         1\n",
       "season                                                  2017\n",
       "city                                               Hyderabad\n",
       "date                                              2017-04-05\n",
       "team1                                    Sunrisers Hyderabad\n",
       "team2                            Royal Challengers Bangalore\n",
       "toss_winner                      Royal Challengers Bangalore\n",
       "toss_decision                                          field\n",
       "result                                                normal\n",
       "dl_applied                                                 0\n",
       "winner                                   Sunrisers Hyderabad\n",
       "win_by_runs                                               35\n",
       "win_by_wickets                                             0\n",
       "player_of_match                                 Yuvraj Singh\n",
       "venue              Rajiv Gandhi International Stadium, Uppal\n",
       "umpire1                                          AY Dandekar\n",
       "umpire2                                             NJ Llong\n",
       "umpire3                                                  NaN\n",
       "Name: 0, dtype: object"
      ]
     },
     "execution_count": 14,
     "metadata": {},
     "output_type": "execute_result"
    }
   ],
   "source": [
    "data.iloc[data[\"win_by_wickets\"].idxmin()]"
   ]
  },
  {
   "cell_type": "markdown",
   "id": "7a823c8b",
   "metadata": {},
   "source": [
    "which season consisted of the highest number of matches ever played"
   ]
  },
  {
   "cell_type": "code",
   "execution_count": 15,
   "id": "86120937",
   "metadata": {},
   "outputs": [
    {
     "data": {
      "image/png": "[encoded data removed]",
      "text/plain": [
       "<Figure size 1440x288 with 1 Axes>"
      ]
     },
     "metadata": {
      "needs_background": "light"
     },
     "output_type": "display_data"
    }
   ],
   "source": [
    "fig_dims=(20,4)\n",
    "fig,ax=plt.subplots(figsize=fig_dims)\n",
    "sns.countplot(x=\"season\",ax=ax,data=data);"
   ]
  },
  {
   "cell_type": "markdown",
   "id": "39fc421f",
   "metadata": {},
   "source": [
    "which is the most sucessfull ipl team with all the data at hand?"
   ]
  },
  {
   "cell_type": "code",
   "execution_count": 16,
   "id": "ab8b51af",
   "metadata": {},
   "outputs": [
    {
     "data": {
      "image/png": "[encoded data removed]",
      "text/plain": [
       "<Figure size 432x288 with 1 Axes>"
      ]
     },
     "metadata": {
      "needs_background": "light"
     },
     "output_type": "display_data"
    }
   ],
   "source": [
    "data1=data.winner.value_counts()\n",
    "sns.barplot(y=data1.index,x=data1);"
   ]
  },
  {
   "cell_type": "markdown",
   "id": "41305bc5",
   "metadata": {},
   "source": [
    "what is the probability of winning a match if the toss was won?"
   ]
  },
  {
   "cell_type": "code",
   "execution_count": 17,
   "id": "059fdcac",
   "metadata": {},
   "outputs": [
    {
     "data": {
      "text/plain": [
       "False    311\n",
       "True     325\n",
       "dtype: int64"
      ]
     },
     "execution_count": 17,
     "metadata": {},
     "output_type": "execute_result"
    }
   ],
   "source": [
    "prob_of_won=data[\"toss_winner\"]==data[\"winner\"]\n",
    "prob_of_won.groupby(prob_of_won).size()"
   ]
  },
  {
   "cell_type": "code",
   "execution_count": 18,
   "id": "ed71f2a3",
   "metadata": {},
   "outputs": [
    {
     "data": {
      "image/png": "[encoded data removed]",
      "text/plain": [
       "<Figure size 432x288 with 1 Axes>"
      ]
     },
     "metadata": {
      "needs_background": "light"
     },
     "output_type": "display_data"
    }
   ],
   "source": [
    "sns.countplot(prob_of_won);"
   ]
  },
  {
   "cell_type": "code",
   "execution_count": 19,
   "id": "5b0d8d6e",
   "metadata": {},
   "outputs": [
    {
     "name": "stdout",
     "output_type": "stream",
     "text": [
      "display.max_colwidth : int or None\n",
      "    The maximum width in characters of a column in the repr of\n",
      "    a pandas data structure. When the column overflows, a \"...\"\n",
      "    placeholder is embedded in the output. A 'None' value means unlimited.\n",
      "    [default: 50] [currently: 400]\n"
     ]
    }
   ],
   "source": [
    "pd.set_option('max_rows',99999)\n",
    "pd.set_option('max_colwidth',400)\n",
    "pd.describe_option('max_colwidth')"
   ]
  },
  {
   "cell_type": "markdown",
   "id": "49c3cdbb",
   "metadata": {},
   "source": [
    "highest wins by teams per season"
   ]
  },
  {
   "cell_type": "code",
   "execution_count": 20,
   "id": "3a3ac0ac",
   "metadata": {},
   "outputs": [
    {
     "data": {
      "text/plain": [
       "season  winner                     \n",
       "2008    Rajasthan Royals               13\n",
       "        Kings XI Punjab                10\n",
       "        Chennai Super Kings             9\n",
       "        Delhi Daredevils                7\n",
       "        Mumbai Indians                  7\n",
       "        Kolkata Knight Riders           6\n",
       "        Royal Challengers Bangalore     4\n",
       "        Deccan Chargers                 2\n",
       "2009    Delhi Daredevils               10\n",
       "        Deccan Chargers                 9\n",
       "        Royal Challengers Bangalore     9\n",
       "        Chennai Super Kings             8\n",
       "        Kings XI Punjab                 7\n",
       "        Rajasthan Royals                6\n",
       "        Mumbai Indians                  5\n",
       "        Kolkata Knight Riders           3\n",
       "2010    Mumbai Indians                 11\n",
       "        Chennai Super Kings             9\n",
       "        Deccan Chargers                 8\n",
       "        Royal Challengers Bangalore     8\n",
       "        Delhi Daredevils                7\n",
       "        Kolkata Knight Riders           7\n",
       "        Rajasthan Royals                6\n",
       "        Kings XI Punjab                 4\n",
       "2011    Chennai Super Kings            11\n",
       "        Mumbai Indians                 10\n",
       "        Royal Challengers Bangalore    10\n",
       "        Kolkata Knight Riders           8\n",
       "        Kings XI Punjab                 7\n",
       "        Deccan Chargers                 6\n",
       "        Kochi Tuskers Kerala            6\n",
       "        Rajasthan Royals                6\n",
       "        Delhi Daredevils                4\n",
       "        Pune Warriors                   4\n",
       "2012    Kolkata Knight Riders          12\n",
       "        Delhi Daredevils               11\n",
       "        Chennai Super Kings            10\n",
       "        Mumbai Indians                 10\n",
       "        Kings XI Punjab                 8\n",
       "        Royal Challengers Bangalore     8\n",
       "        Rajasthan Royals                7\n",
       "        Deccan Chargers                 4\n",
       "        Pune Warriors                   4\n",
       "2013    Mumbai Indians                 13\n",
       "        Chennai Super Kings            12\n",
       "        Rajasthan Royals               11\n",
       "        Sunrisers Hyderabad            10\n",
       "        Royal Challengers Bangalore     9\n",
       "        Kings XI Punjab                 8\n",
       "        Kolkata Knight Riders           6\n",
       "        Pune Warriors                   4\n",
       "        Delhi Daredevils                3\n",
       "2014    Kings XI Punjab                12\n",
       "        Kolkata Knight Riders          11\n",
       "        Chennai Super Kings            10\n",
       "        Mumbai Indians                  7\n",
       "        Rajasthan Royals                7\n",
       "        Sunrisers Hyderabad             6\n",
       "        Royal Challengers Bangalore     5\n",
       "        Delhi Daredevils                2\n",
       "2015    Chennai Super Kings            10\n",
       "        Mumbai Indians                 10\n",
       "        Royal Challengers Bangalore     8\n",
       "        Kolkata Knight Riders           7\n",
       "        Rajasthan Royals                7\n",
       "        Sunrisers Hyderabad             7\n",
       "        Delhi Daredevils                5\n",
       "        Kings XI Punjab                 3\n",
       "2016    Sunrisers Hyderabad            11\n",
       "        Gujarat Lions                   9\n",
       "        Royal Challengers Bangalore     9\n",
       "        Kolkata Knight Riders           8\n",
       "        Delhi Daredevils                7\n",
       "        Mumbai Indians                  7\n",
       "        Rising Pune Supergiants         5\n",
       "        Kings XI Punjab                 4\n",
       "2017    Mumbai Indians                 12\n",
       "        Rising Pune Supergiant         10\n",
       "        Kolkata Knight Riders           9\n",
       "        Sunrisers Hyderabad             8\n",
       "        Kings XI Punjab                 7\n",
       "        Delhi Daredevils                6\n",
       "        Gujarat Lions                   4\n",
       "        Royal Challengers Bangalore     3\n",
       "Name: winner, dtype: int64"
      ]
     },
     "execution_count": 20,
     "metadata": {},
     "output_type": "execute_result"
    }
   ],
   "source": [
    "data.groupby('season')['winner'].value_counts()"
   ]
  },
  {
   "cell_type": "code",
   "execution_count": 21,
   "id": "c00f3257",
   "metadata": {},
   "outputs": [
    {
     "data": {
      "text/plain": [
       "field    363\n",
       "bat      273\n",
       "Name: toss_decision, dtype: int64"
      ]
     },
     "execution_count": 21,
     "metadata": {},
     "output_type": "execute_result"
    }
   ],
   "source": [
    "data[\"toss_decision\"].value_counts()"
   ]
  },
  {
   "cell_type": "markdown",
   "id": "23f4e601",
   "metadata": {},
   "source": [
    "man of the match -highest to lowest(in won matches)"
   ]
  },
  {
   "cell_type": "code",
   "execution_count": 22,
   "id": "013371e0",
   "metadata": {
    "scrolled": false
   },
   "outputs": [
    {
     "data": {
      "text/plain": [
       "CH Gayle             18\n",
       "YK Pathan            16\n",
       "DA Warner            15\n",
       "AB de Villiers       15\n",
       "RG Sharma            14\n",
       "SK Raina             14\n",
       "MS Dhoni             13\n",
       "G Gambhir            13\n",
       "AM Rahane            12\n",
       "MEK Hussey           12\n",
       "V Sehwag             11\n",
       "DR Smith             11\n",
       "V Kohli              11\n",
       "SR Watson            10\n",
       "JH Kallis            10\n",
       "A Mishra              9\n",
       "KA Pollard            9\n",
       "SE Marsh              9\n",
       "SR Tendulkar          8\n",
       "RV Uthappa            7\n",
       "AT Rayudu             7\n",
       "RA Jadeja             7\n",
       "AC Gilchrist          7\n",
       "AD Russell            6\n",
       "A Nehra               6\n",
       "Harbhajan Singh       6\n",
       "BJ Hodge              6\n",
       "M Vijay               6\n",
       "UT Yadav              6\n",
       "SP Narine             6\n",
       "JP Faulkner           5\n",
       "DPMD Jayawardene      5\n",
       "SC Ganguly            5\n",
       "GJ Maxwell            5\n",
       "KC Sangakkara         5\n",
       "SL Malinga            5\n",
       "BB McCullum           5\n",
       "Yuvraj Singh          5\n",
       "B Kumar               5\n",
       "DW Steyn              5\n",
       "Sandeep Sharma        5\n",
       "AJ Finch              5\n",
       "SK Warne              4\n",
       "AR Patel              4\n",
       "JD Unadkat            4\n",
       "JP Duminy             4\n",
       "SPD Smith             4\n",
       "KD Karthik            4\n",
       "MK Pandey             4\n",
       "KH Pandya             4\n",
       "NM Coulter-Nile       4\n",
       "PA Patel              4\n",
       "ML Hayden             4\n",
       "KP Pietersen          3\n",
       "R Vinay Kumar         3\n",
       "DA Miller             3\n",
       "LRPL Taylor           3\n",
       "PP Chawla             3\n",
       "A Symonds             3\n",
       "A Kumble              3\n",
       "M Vohra               3\n",
       "MK Tiwary             3\n",
       "L Balaji              3\n",
       "Mandeep Singh         3\n",
       "KK Nair               3\n",
       "CJ Anderson           3\n",
       "LMP Simmons           3\n",
       "BA Stokes             3\n",
       "WP Saha               3\n",
       "SV Samson             3\n",
       "AJ Tye                2\n",
       "RR Pant               2\n",
       "IK Pathan             2\n",
       "MG Johnson            2\n",
       "CA Lynn               2\n",
       "SS Iyer               2\n",
       "MM Sharma             2\n",
       "S Dhawan              2\n",
       "KM Jadhav             2\n",
       "N Rana                2\n",
       "AB Dinda              2\n",
       "Harmeet Singh         2\n",
       "CH Morris             2\n",
       "DE Bollinger          2\n",
       "B Lee                 2\n",
       "MJ McClenaghan        2\n",
       "R Sharma              2\n",
       "MP Stoinis            2\n",
       "GH Vihari             2\n",
       "HM Amla               2\n",
       "M Morkel              2\n",
       "Rashid Khan           2\n",
       "M Muralitharan        2\n",
       "SM Pollock            2\n",
       "Sohail Tanvir         2\n",
       "F du Plessis          2\n",
       "ST Jayasuriya         2\n",
       "MM Patel              2\n",
       "DJ Hussey             2\n",
       "MV Boucher            2\n",
       "PC Valthaty           2\n",
       "HH Pandya             2\n",
       "MC Henriques          2\n",
       "GC Smith              2\n",
       "DJ Bravo              2\n",
       "M Ntini               2\n",
       "P Negi                2\n",
       "I Sharma              2\n",
       "Azhar Mahmood         2\n",
       "JA Morkel             2\n",
       "P Kumar               2\n",
       "PV Tambe              2\n",
       "Iqbal Abdulla         2\n",
       "R Dravid              2\n",
       "SK Trivedi            2\n",
       "Shakib Al Hasan       2\n",
       "BW Hilfenhaus         2\n",
       "CL White              1\n",
       "KMDN Kulasekara       1\n",
       "S Nadeem              1\n",
       "MN Samuels            1\n",
       "AD Mascarenhas        1\n",
       "JD Ryder              1\n",
       "GJ Bailey             1\n",
       "A Chandila            1\n",
       "MS Bisla              1\n",
       "A Zampa               1\n",
       "CR Brathwaite         1\n",
       "SA Yadav              1\n",
       "Mustafizur Rahman     1\n",
       "Q de Kock             1\n",
       "Z Khan                1\n",
       "EJG Morgan            1\n",
       "TA Boult              1\n",
       "VR Aaron              1\n",
       "MA Starc              1\n",
       "MA Agarwal            1\n",
       "JEC Franklin          1\n",
       "DJ Hooda              1\n",
       "YS Chahal             1\n",
       "LJ Wright             1\n",
       "AP Tare               1\n",
       "KK Cooper             1\n",
       "DJG Sammy             1\n",
       "MS Gony               1\n",
       "RE Levi               1\n",
       "S Badrinath           1\n",
       "S Aravind             1\n",
       "SM Katich             1\n",
       "PP Ojha               1\n",
       "RS Bopara             1\n",
       "RP Singh              1\n",
       "DL Vettori            1\n",
       "Umar Gul              1\n",
       "SP Goswami            1\n",
       "Shoaib Akhtar         1\n",
       "CRD Fernando          1\n",
       "S Sreesanth           1\n",
       "SA Asnodkar           1\n",
       "GD McGrath            1\n",
       "JDP Oram              1\n",
       "BA Bhatt              1\n",
       "MF Maharoof           1\n",
       "KV Sharma             1\n",
       "Washington Sundar     1\n",
       "HV Patel              1\n",
       "Mohammed Siraj        1\n",
       "RA Tripathi           1\n",
       "Mohammed Shami        1\n",
       "LH Ferguson           1\n",
       "JC Buttler            1\n",
       "KS Williamson         1\n",
       "JJ Bumrah             1\n",
       "TM Dilshan            1\n",
       "HH Gibbs              1\n",
       "DP Nannes             1\n",
       "SB Jakati             1\n",
       "MR Marsh              1\n",
       "P Parameswaran        1\n",
       "J Botha               1\n",
       "S Sohal               1\n",
       "MD Mishra             1\n",
       "SB Wagh               1\n",
       "S Anirudha            1\n",
       "M Kartik              1\n",
       "R McLaren             1\n",
       "R Ashwin              1\n",
       "RJ Harris             1\n",
       "TL Suman              1\n",
       "MJ Lumb               1\n",
       "PD Collingwood        1\n",
       "NV Ojha               1\n",
       "AC Voges              1\n",
       "J Theron              1\n",
       "AA Jhunjhunwala       1\n",
       "WPUJC Vaas            1\n",
       "AD Mathews            1\n",
       "LR Shukla             1\n",
       "R Bhatia              1\n",
       "A Singh               1\n",
       "BCJ Cutting           1\n",
       "Name: player_of_match, dtype: int64"
      ]
     },
     "execution_count": 22,
     "metadata": {},
     "output_type": "execute_result"
    }
   ],
   "source": [
    "data[\"player_of_match\"].value_counts()"
   ]
  },
  {
   "cell_type": "markdown",
   "id": "c9b54e34",
   "metadata": {},
   "source": [
    "in which city were the number of matches played?"
   ]
  },
  {
   "cell_type": "code",
   "execution_count": 23,
   "id": "11c71c2f",
   "metadata": {},
   "outputs": [
    {
     "data": {
      "text/plain": [
       "Mumbai            85\n",
       "Bangalore         66\n",
       "Kolkata           61\n",
       "Delhi             60\n",
       "Hyderabad         49\n",
       "Chennai           48\n",
       "Chandigarh        46\n",
       "Jaipur            33\n",
       "Pune              32\n",
       "Durban            15\n",
       "Ahmedabad         12\n",
       "Centurion         12\n",
       "Visakhapatnam     11\n",
       "Rajkot            10\n",
       "Dharamsala         9\n",
       "Johannesburg       8\n",
       "Cape Town          7\n",
       "Abu Dhabi          7\n",
       "Ranchi             7\n",
       "Port Elizabeth     7\n",
       "Cuttack            7\n",
       "Raipur             6\n",
       "Sharjah            6\n",
       "Kochi              5\n",
       "Indore             5\n",
       "Kanpur             4\n",
       "Nagpur             3\n",
       "Kimberley          3\n",
       "East London        3\n",
       "Bloemfontein       2\n",
       "Name: city, dtype: int64"
      ]
     },
     "execution_count": 23,
     "metadata": {},
     "output_type": "execute_result"
    }
   ],
   "source": [
    "data[\"city\"].value_counts()"
   ]
  },
  {
   "cell_type": "markdown",
   "id": "80e7a1d1",
   "metadata": {},
   "source": [
    "# data visuliation"
   ]
  },
  {
   "cell_type": "code",
   "execution_count": 24,
   "id": "0698bde0",
   "metadata": {},
   "outputs": [],
   "source": [
    "import seaborn as sns\n",
    "from matplotlib import pyplot as plt\n",
    "import pandas as pd"
   ]
  },
  {
   "cell_type": "code",
   "execution_count": 25,
   "id": "a1e2fcd6",
   "metadata": {},
   "outputs": [],
   "source": [
    "fmri=sns.load_dataset(\"fmri\")"
   ]
  },
  {
   "cell_type": "code",
   "execution_count": 26,
   "id": "5302ad31",
   "metadata": {},
   "outputs": [
    {
     "data": {
      "text/html": [
       "<div>\n",
       "<style scoped>\n",
       "    .dataframe tbody tr th:only-of-type {\n",
       "        vertical-align: middle;\n",
       "    }\n",
       "\n",
       "    .dataframe tbody tr th {\n",
       "        vertical-align: top;\n",
       "    }\n",
       "\n",
       "    .dataframe thead th {\n",
       "        text-align: right;\n",
       "    }\n",
       "</style>\n",
       "<table border=\"1\" class=\"dataframe\">\n",
       "  <thead>\n",
       "    <tr style=\"text-align: right;\">\n",
       "      <th></th>\n",
       "      <th>subject</th>\n",
       "      <th>timepoint</th>\n",
       "      <th>event</th>\n",
       "      <th>region</th>\n",
       "      <th>signal</th>\n",
       "    </tr>\n",
       "  </thead>\n",
       "  <tbody>\n",
       "    <tr>\n",
       "      <th>431</th>\n",
       "      <td>s12</td>\n",
       "      <td>11</td>\n",
       "      <td>stim</td>\n",
       "      <td>frontal</td>\n",
       "      <td>-0.035377</td>\n",
       "    </tr>\n",
       "    <tr>\n",
       "      <th>813</th>\n",
       "      <td>s6</td>\n",
       "      <td>14</td>\n",
       "      <td>cue</td>\n",
       "      <td>parietal</td>\n",
       "      <td>-0.014262</td>\n",
       "    </tr>\n",
       "    <tr>\n",
       "      <th>349</th>\n",
       "      <td>s0</td>\n",
       "      <td>6</td>\n",
       "      <td>stim</td>\n",
       "      <td>frontal</td>\n",
       "      <td>0.059436</td>\n",
       "    </tr>\n",
       "    <tr>\n",
       "      <th>841</th>\n",
       "      <td>s13</td>\n",
       "      <td>15</td>\n",
       "      <td>cue</td>\n",
       "      <td>parietal</td>\n",
       "      <td>-0.001390</td>\n",
       "    </tr>\n",
       "    <tr>\n",
       "      <th>1</th>\n",
       "      <td>s5</td>\n",
       "      <td>14</td>\n",
       "      <td>stim</td>\n",
       "      <td>parietal</td>\n",
       "      <td>-0.080883</td>\n",
       "    </tr>\n",
       "  </tbody>\n",
       "</table>\n",
       "</div>"
      ],
      "text/plain": [
       "    subject  timepoint event    region    signal\n",
       "431     s12         11  stim   frontal -0.035377\n",
       "813      s6         14   cue  parietal -0.014262\n",
       "349      s0          6  stim   frontal  0.059436\n",
       "841     s13         15   cue  parietal -0.001390\n",
       "1        s5         14  stim  parietal -0.080883"
      ]
     },
     "execution_count": 26,
     "metadata": {},
     "output_type": "execute_result"
    }
   ],
   "source": [
    "fmri.sample(5)"
   ]
  },
  {
   "cell_type": "code",
   "execution_count": 27,
   "id": "0a443dab",
   "metadata": {},
   "outputs": [],
   "source": [
    "fmri=pd.DataFrame(fmri)"
   ]
  },
  {
   "cell_type": "markdown",
   "id": "c572d0a8",
   "metadata": {},
   "source": [
    "line plot with timepoint and signal "
   ]
  },
  {
   "cell_type": "code",
   "execution_count": 28,
   "id": "fbd22f8e",
   "metadata": {},
   "outputs": [
    {
     "data": {
      "image/png": "[encoded data removed]",
      "text/plain": [
       "<Figure size 432x288 with 1 Axes>"
      ]
     },
     "metadata": {
      "needs_background": "light"
     },
     "output_type": "display_data"
    }
   ],
   "source": [
    "sns.lineplot(x=fmri[\"timepoint\"],y=fmri[\"signal\"])\n",
    "plt.show()"
   ]
  },
  {
   "cell_type": "markdown",
   "id": "ba0bbfb4",
   "metadata": {},
   "source": [
    "# Dibetes Detection using MULTIVATIARE ANALYSIS and machine learning"
   ]
  },
  {
   "cell_type": "code",
   "execution_count": 29,
   "id": "3237479a",
   "metadata": {},
   "outputs": [],
   "source": [
    "import pandas as pd\n",
    "import numpy as np\n",
    "import seaborn as sns\n",
    "import matplotlib.pyplot as plt\n",
    "%matplotlib inline\n",
    "import statistics\n",
    "import warnings\n",
    "warnings.filterwarnings('ignore')\n",
    "from sklearn import preprocessing\n",
    "from sklearn.model_selection import train_test_split\n",
    "from sklearn.linear_model import LogisticRegression\n",
    "from sklearn.metrics import confusion_matrix\n",
    "from sklearn import metrics"
   ]
  },
  {
   "cell_type": "markdown",
   "id": "ab89c75b",
   "metadata": {},
   "source": [
    "About this file\n",
    "1. Pregnancies: Number of times pregnant\n",
    "2. Glucose: Plasma glucose concentration a 2 hours in an oral glucose tolerance test\n",
    "3. BloodPressure: Diastolic blood pressure (mm Hg)\n",
    "4. SkinThickness: Triceps skin fold thickness (mm)\n",
    "5. Insulin: 2-Hour serum insulin (mu U/ml)\n",
    "6. BMI: Body mass index (weight in kg/(height in m)^2)\n",
    "7. DiabetesPedigreeFunction: Diabetes pedigree function\n",
    "8. Age: Age (years)\n",
    "9. Outcome: Class variable (0 or 1)"
   ]
  },
  {
   "cell_type": "code",
   "execution_count": 30,
   "id": "26472e0f",
   "metadata": {},
   "outputs": [],
   "source": [
    "data=pd.read_csv(\"diabetes.csv\")"
   ]
  },
  {
   "cell_type": "code",
   "execution_count": 31,
   "id": "1075ddf4",
   "metadata": {},
   "outputs": [
    {
     "data": {
      "text/html": [
       "<div>\n",
       "<style scoped>\n",
       "    .dataframe tbody tr th:only-of-type {\n",
       "        vertical-align: middle;\n",
       "    }\n",
       "\n",
       "    .dataframe tbody tr th {\n",
       "        vertical-align: top;\n",
       "    }\n",
       "\n",
       "    .dataframe thead th {\n",
       "        text-align: right;\n",
       "    }\n",
       "</style>\n",
       "<table border=\"1\" class=\"dataframe\">\n",
       "  <thead>\n",
       "    <tr style=\"text-align: right;\">\n",
       "      <th></th>\n",
       "      <th>Pregnancies</th>\n",
       "      <th>Glucose</th>\n",
       "      <th>BloodPressure</th>\n",
       "      <th>SkinThickness</th>\n",
       "      <th>Insulin</th>\n",
       "      <th>BMI</th>\n",
       "      <th>DiabetesPedigreeFunction</th>\n",
       "      <th>Age</th>\n",
       "      <th>Outcome</th>\n",
       "    </tr>\n",
       "  </thead>\n",
       "  <tbody>\n",
       "    <tr>\n",
       "      <th>197</th>\n",
       "      <td>3</td>\n",
       "      <td>107</td>\n",
       "      <td>62</td>\n",
       "      <td>13</td>\n",
       "      <td>48</td>\n",
       "      <td>22.9</td>\n",
       "      <td>0.678</td>\n",
       "      <td>23</td>\n",
       "      <td>1</td>\n",
       "    </tr>\n",
       "    <tr>\n",
       "      <th>72</th>\n",
       "      <td>13</td>\n",
       "      <td>126</td>\n",
       "      <td>90</td>\n",
       "      <td>0</td>\n",
       "      <td>0</td>\n",
       "      <td>43.4</td>\n",
       "      <td>0.583</td>\n",
       "      <td>42</td>\n",
       "      <td>1</td>\n",
       "    </tr>\n",
       "    <tr>\n",
       "      <th>365</th>\n",
       "      <td>5</td>\n",
       "      <td>99</td>\n",
       "      <td>54</td>\n",
       "      <td>28</td>\n",
       "      <td>83</td>\n",
       "      <td>34.0</td>\n",
       "      <td>0.499</td>\n",
       "      <td>30</td>\n",
       "      <td>0</td>\n",
       "    </tr>\n",
       "    <tr>\n",
       "      <th>350</th>\n",
       "      <td>4</td>\n",
       "      <td>92</td>\n",
       "      <td>80</td>\n",
       "      <td>0</td>\n",
       "      <td>0</td>\n",
       "      <td>42.2</td>\n",
       "      <td>0.237</td>\n",
       "      <td>29</td>\n",
       "      <td>0</td>\n",
       "    </tr>\n",
       "    <tr>\n",
       "      <th>19</th>\n",
       "      <td>1</td>\n",
       "      <td>115</td>\n",
       "      <td>70</td>\n",
       "      <td>30</td>\n",
       "      <td>96</td>\n",
       "      <td>34.6</td>\n",
       "      <td>0.529</td>\n",
       "      <td>32</td>\n",
       "      <td>1</td>\n",
       "    </tr>\n",
       "  </tbody>\n",
       "</table>\n",
       "</div>"
      ],
      "text/plain": [
       "     Pregnancies  Glucose  BloodPressure  SkinThickness  Insulin   BMI  \\\n",
       "197            3      107             62             13       48  22.9   \n",
       "72            13      126             90              0        0  43.4   \n",
       "365            5       99             54             28       83  34.0   \n",
       "350            4       92             80              0        0  42.2   \n",
       "19             1      115             70             30       96  34.6   \n",
       "\n",
       "     DiabetesPedigreeFunction  Age  Outcome  \n",
       "197                     0.678   23        1  \n",
       "72                      0.583   42        1  \n",
       "365                     0.499   30        0  \n",
       "350                     0.237   29        0  \n",
       "19                      0.529   32        1  "
      ]
     },
     "execution_count": 31,
     "metadata": {},
     "output_type": "execute_result"
    }
   ],
   "source": [
    "data.sample(5)"
   ]
  },
  {
   "cell_type": "code",
   "execution_count": 32,
   "id": "c31a0067",
   "metadata": {},
   "outputs": [
    {
     "name": "stdout",
     "output_type": "stream",
     "text": [
      "<class 'pandas.core.frame.DataFrame'>\n",
      "RangeIndex: 768 entries, 0 to 767\n",
      "Data columns (total 9 columns):\n",
      " #   Column                    Non-Null Count  Dtype  \n",
      "---  ------                    --------------  -----  \n",
      " 0   Pregnancies               768 non-null    int64  \n",
      " 1   Glucose                   768 non-null    int64  \n",
      " 2   BloodPressure             768 non-null    int64  \n",
      " 3   SkinThickness             768 non-null    int64  \n",
      " 4   Insulin                   768 non-null    int64  \n",
      " 5   BMI                       768 non-null    float64\n",
      " 6   DiabetesPedigreeFunction  768 non-null    float64\n",
      " 7   Age                       768 non-null    int64  \n",
      " 8   Outcome                   768 non-null    int64  \n",
      "dtypes: float64(2), int64(7)\n",
      "memory usage: 54.1 KB\n"
     ]
    }
   ],
   "source": [
    "data.info()"
   ]
  },
  {
   "cell_type": "code",
   "execution_count": 33,
   "id": "40c8634d",
   "metadata": {},
   "outputs": [
    {
     "data": {
      "text/html": [
       "<div>\n",
       "<style scoped>\n",
       "    .dataframe tbody tr th:only-of-type {\n",
       "        vertical-align: middle;\n",
       "    }\n",
       "\n",
       "    .dataframe tbody tr th {\n",
       "        vertical-align: top;\n",
       "    }\n",
       "\n",
       "    .dataframe thead th {\n",
       "        text-align: right;\n",
       "    }\n",
       "</style>\n",
       "<table border=\"1\" class=\"dataframe\">\n",
       "  <thead>\n",
       "    <tr style=\"text-align: right;\">\n",
       "      <th></th>\n",
       "      <th>Pregnancies</th>\n",
       "      <th>Glucose</th>\n",
       "      <th>BloodPressure</th>\n",
       "      <th>SkinThickness</th>\n",
       "      <th>Insulin</th>\n",
       "      <th>BMI</th>\n",
       "      <th>DiabetesPedigreeFunction</th>\n",
       "      <th>Age</th>\n",
       "      <th>Outcome</th>\n",
       "    </tr>\n",
       "  </thead>\n",
       "  <tbody>\n",
       "    <tr>\n",
       "      <th>count</th>\n",
       "      <td>768.000000</td>\n",
       "      <td>768.000000</td>\n",
       "      <td>768.000000</td>\n",
       "      <td>768.000000</td>\n",
       "      <td>768.000000</td>\n",
       "      <td>768.000000</td>\n",
       "      <td>768.000000</td>\n",
       "      <td>768.000000</td>\n",
       "      <td>768.000000</td>\n",
       "    </tr>\n",
       "    <tr>\n",
       "      <th>mean</th>\n",
       "      <td>3.845052</td>\n",
       "      <td>120.894531</td>\n",
       "      <td>69.105469</td>\n",
       "      <td>20.536458</td>\n",
       "      <td>79.799479</td>\n",
       "      <td>31.992578</td>\n",
       "      <td>0.471876</td>\n",
       "      <td>33.240885</td>\n",
       "      <td>0.348958</td>\n",
       "    </tr>\n",
       "    <tr>\n",
       "      <th>std</th>\n",
       "      <td>3.369578</td>\n",
       "      <td>31.972618</td>\n",
       "      <td>19.355807</td>\n",
       "      <td>15.952218</td>\n",
       "      <td>115.244002</td>\n",
       "      <td>7.884160</td>\n",
       "      <td>0.331329</td>\n",
       "      <td>11.760232</td>\n",
       "      <td>0.476951</td>\n",
       "    </tr>\n",
       "    <tr>\n",
       "      <th>min</th>\n",
       "      <td>0.000000</td>\n",
       "      <td>0.000000</td>\n",
       "      <td>0.000000</td>\n",
       "      <td>0.000000</td>\n",
       "      <td>0.000000</td>\n",
       "      <td>0.000000</td>\n",
       "      <td>0.078000</td>\n",
       "      <td>21.000000</td>\n",
       "      <td>0.000000</td>\n",
       "    </tr>\n",
       "    <tr>\n",
       "      <th>25%</th>\n",
       "      <td>1.000000</td>\n",
       "      <td>99.000000</td>\n",
       "      <td>62.000000</td>\n",
       "      <td>0.000000</td>\n",
       "      <td>0.000000</td>\n",
       "      <td>27.300000</td>\n",
       "      <td>0.243750</td>\n",
       "      <td>24.000000</td>\n",
       "      <td>0.000000</td>\n",
       "    </tr>\n",
       "    <tr>\n",
       "      <th>50%</th>\n",
       "      <td>3.000000</td>\n",
       "      <td>117.000000</td>\n",
       "      <td>72.000000</td>\n",
       "      <td>23.000000</td>\n",
       "      <td>30.500000</td>\n",
       "      <td>32.000000</td>\n",
       "      <td>0.372500</td>\n",
       "      <td>29.000000</td>\n",
       "      <td>0.000000</td>\n",
       "    </tr>\n",
       "    <tr>\n",
       "      <th>75%</th>\n",
       "      <td>6.000000</td>\n",
       "      <td>140.250000</td>\n",
       "      <td>80.000000</td>\n",
       "      <td>32.000000</td>\n",
       "      <td>127.250000</td>\n",
       "      <td>36.600000</td>\n",
       "      <td>0.626250</td>\n",
       "      <td>41.000000</td>\n",
       "      <td>1.000000</td>\n",
       "    </tr>\n",
       "    <tr>\n",
       "      <th>max</th>\n",
       "      <td>17.000000</td>\n",
       "      <td>199.000000</td>\n",
       "      <td>122.000000</td>\n",
       "      <td>99.000000</td>\n",
       "      <td>846.000000</td>\n",
       "      <td>67.100000</td>\n",
       "      <td>2.420000</td>\n",
       "      <td>81.000000</td>\n",
       "      <td>1.000000</td>\n",
       "    </tr>\n",
       "  </tbody>\n",
       "</table>\n",
       "</div>"
      ],
      "text/plain": [
       "       Pregnancies     Glucose  BloodPressure  SkinThickness     Insulin  \\\n",
       "count   768.000000  768.000000     768.000000     768.000000  768.000000   \n",
       "mean      3.845052  120.894531      69.105469      20.536458   79.799479   \n",
       "std       3.369578   31.972618      19.355807      15.952218  115.244002   \n",
       "min       0.000000    0.000000       0.000000       0.000000    0.000000   \n",
       "25%       1.000000   99.000000      62.000000       0.000000    0.000000   \n",
       "50%       3.000000  117.000000      72.000000      23.000000   30.500000   \n",
       "75%       6.000000  140.250000      80.000000      32.000000  127.250000   \n",
       "max      17.000000  199.000000     122.000000      99.000000  846.000000   \n",
       "\n",
       "              BMI  DiabetesPedigreeFunction         Age     Outcome  \n",
       "count  768.000000                768.000000  768.000000  768.000000  \n",
       "mean    31.992578                  0.471876   33.240885    0.348958  \n",
       "std      7.884160                  0.331329   11.760232    0.476951  \n",
       "min      0.000000                  0.078000   21.000000    0.000000  \n",
       "25%     27.300000                  0.243750   24.000000    0.000000  \n",
       "50%     32.000000                  0.372500   29.000000    0.000000  \n",
       "75%     36.600000                  0.626250   41.000000    1.000000  \n",
       "max     67.100000                  2.420000   81.000000    1.000000  "
      ]
     },
     "execution_count": 33,
     "metadata": {},
     "output_type": "execute_result"
    }
   ],
   "source": [
    "data.describe()"
   ]
  },
  {
   "cell_type": "code",
   "execution_count": 34,
   "id": "750048a7",
   "metadata": {},
   "outputs": [
    {
     "data": {
      "text/plain": [
       "Pregnancies                 False\n",
       "Glucose                     False\n",
       "BloodPressure               False\n",
       "SkinThickness               False\n",
       "Insulin                     False\n",
       "BMI                         False\n",
       "DiabetesPedigreeFunction    False\n",
       "Age                         False\n",
       "Outcome                     False\n",
       "dtype: bool"
      ]
     },
     "execution_count": 34,
     "metadata": {},
     "output_type": "execute_result"
    }
   ],
   "source": [
    "data.isna().any() # all the columns have numerical values"
   ]
  },
  {
   "cell_type": "markdown",
   "id": "a2eb275b",
   "metadata": {},
   "source": [
    "understanding corellation between the labels"
   ]
  },
  {
   "cell_type": "code",
   "execution_count": 35,
   "id": "5f2c6d1b",
   "metadata": {},
   "outputs": [
    {
     "data": {
      "image/png": "[encoded data removed]",
      "text/plain": [
       "<Figure size 1440x720 with 9 Axes>"
      ]
     },
     "metadata": {
      "needs_background": "light"
     },
     "output_type": "display_data"
    }
   ],
   "source": [
    "fig,axs=plt.subplots(9,figsize=(20,10))\n",
    "plt1=sns.boxplot(data['Pregnancies'],ax=axs[0])\n",
    "plt1=sns.boxplot(data['Glucose'],ax=axs[1])\n",
    "plt1=sns.boxplot(data['BloodPressure'],ax=axs[2])\n",
    "plt1=sns.boxplot(data['SkinThickness'],ax=axs[3])\n",
    "plt1=sns.boxplot(data['Insulin'],ax=axs[4])\n",
    "plt1=sns.boxplot(data['BMI'],ax=axs[5])\n",
    "plt1=sns.boxplot(data['DiabetesPedigreeFunction'],ax=axs[6])\n",
    "plt1=sns.boxplot(data['Age'],ax=axs[7])\n",
    "plt1=sns.boxplot(data['Outcome'],ax=axs[8])"
   ]
  },
  {
   "cell_type": "code",
   "execution_count": 36,
   "id": "70efa2f6",
   "metadata": {},
   "outputs": [
    {
     "name": "stdout",
     "output_type": "stream",
     "text": [
      "11.0\n",
      "0.0\n"
     ]
    }
   ],
   "source": [
    "upper_fence_Pregnancies=data[\"Pregnancies\"].quantile(0.97)\n",
    "print(upper_fence_Pregnancies)\n",
    "lower_fence_Pregnancies=data[\"Pregnancies\"].quantile(0.05)\n",
    "print(lower_fence_Pregnancies)"
   ]
  },
  {
   "cell_type": "code",
   "execution_count": 37,
   "id": "05fa561a",
   "metadata": {},
   "outputs": [
    {
     "name": "stdout",
     "output_type": "stream",
     "text": [
      "179.0\n",
      "57.0\n"
     ]
    }
   ],
   "source": [
    "upper_fence_Glucose=data[\"Glucose\"].quantile(0.94)\n",
    "print(upper_fence_Glucose)\n",
    "lower_fence_Glucose=data[\"Glucose\"].quantile(0.01)\n",
    "print(lower_fence_Glucose)"
   ]
  },
  {
   "cell_type": "code",
   "execution_count": 38,
   "id": "ca3b491b",
   "metadata": {},
   "outputs": [
    {
     "name": "stdout",
     "output_type": "stream",
     "text": [
      "94.99000000000001\n",
      "38.7\n"
     ]
    }
   ],
   "source": [
    "upper_fence_BloodPressure=data[\"BloodPressure\"].quantile(0.97)\n",
    "print(upper_fence_BloodPressure)\n",
    "lower_fence_BloodPressure=data[\"BloodPressure\"].quantile(0.05)\n",
    "print(lower_fence_BloodPressure)"
   ]
  },
  {
   "cell_type": "code",
   "execution_count": 39,
   "id": "ce6adc05",
   "metadata": {},
   "outputs": [
    {
     "name": "stdout",
     "output_type": "stream",
     "text": [
      "51.33000000000004\n",
      "0.0\n"
     ]
    }
   ],
   "source": [
    "upper_fence_SkinThickness=data[\"SkinThickness\"].quantile(0.99)\n",
    "print(upper_fence_SkinThickness)\n",
    "lower_fence_SkinThickness=data[\"SkinThickness\"].quantile(0.01)\n",
    "print(lower_fence_SkinThickness)"
   ]
  },
  {
   "cell_type": "code",
   "execution_count": 40,
   "id": "f849f700",
   "metadata": {},
   "outputs": [
    {
     "name": "stdout",
     "output_type": "stream",
     "text": [
      "293.0\n",
      "0.0\n"
     ]
    }
   ],
   "source": [
    "upper_fence_Insulin=data[\"Insulin\"].quantile(0.95)\n",
    "print(upper_fence_Insulin)\n",
    "lower_fence_Insulin=data[\"Insulin\"].quantile(0.01)\n",
    "print(lower_fence_Insulin)"
   ]
  },
  {
   "cell_type": "code",
   "execution_count": 41,
   "id": "62490f43",
   "metadata": {},
   "outputs": [
    {
     "name": "stdout",
     "output_type": "stream",
     "text": [
      "44.394999999999996\n",
      "0.0\n"
     ]
    }
   ],
   "source": [
    "upper_fence_BMI=data[\"BMI\"].quantile(0.95)\n",
    "print(upper_fence_BMI)\n",
    "lower_fence_BMI=data[\"BMI\"].quantile(0.01)\n",
    "print(lower_fence_BMI)"
   ]
  },
  {
   "cell_type": "code",
   "execution_count": 42,
   "id": "4abf7c83",
   "metadata": {},
   "outputs": [
    {
     "name": "stdout",
     "output_type": "stream",
     "text": [
      "1.1328499999999997\n",
      "0.09468\n"
     ]
    }
   ],
   "source": [
    "upper_fence_DiabetesPedigreeFunction=data[\"DiabetesPedigreeFunction\"].quantile(0.95)\n",
    "print(upper_fence_DiabetesPedigreeFunction)\n",
    "lower_fence_DiabetesPedigreeFunction=data[\"DiabetesPedigreeFunction\"].quantile(0.01)\n",
    "print(lower_fence_DiabetesPedigreeFunction)"
   ]
  },
  {
   "cell_type": "code",
   "execution_count": 43,
   "id": "f883d3a1",
   "metadata": {},
   "outputs": [
    {
     "name": "stdout",
     "output_type": "stream",
     "text": [
      "51.0\n",
      "21.0\n"
     ]
    }
   ],
   "source": [
    "upper_fence_Age=data[\"Age\"].quantile(0.90)\n",
    "print(upper_fence_Age)\n",
    "lower_fence_Age=data[\"Age\"].quantile(0.001)\n",
    "print(lower_fence_Age)"
   ]
  },
  {
   "cell_type": "markdown",
   "id": "a72c5c08",
   "metadata": {},
   "source": [
    "removing the outliers"
   ]
  },
  {
   "cell_type": "code",
   "execution_count": 44,
   "id": "136f665f",
   "metadata": {},
   "outputs": [],
   "source": [
    "data1=data[(data[\"Pregnancies\"]<upper_fence_Pregnancies) & (data[\"Pregnancies\"]>lower_fence_Pregnancies)]\n",
    "data2=data1[(data1[\"Glucose\"]<upper_fence_Glucose) & (data1[\"Glucose\"]>lower_fence_Glucose)]\n",
    "data3=data2[(data2[\"BloodPressure\"]<upper_fence_BloodPressure) & (data2[\"BloodPressure\"]>lower_fence_BloodPressure)]\n",
    "data4=data3[(data3[\"SkinThickness\"]<upper_fence_SkinThickness) & (data3[\"SkinThickness\"]>lower_fence_SkinThickness)]\n",
    "data5=data4[(data4[\"Insulin\"]<upper_fence_Insulin) & (data4[\"Insulin\"]>lower_fence_Insulin)]\n",
    "data6=data5[(data5[\"BMI\"]<upper_fence_BMI) & (data5[\"BMI\"]>lower_fence_BMI)]\n",
    "data7=data6[(data6[\"DiabetesPedigreeFunction\"]<upper_fence_DiabetesPedigreeFunction) & (data6[\"DiabetesPedigreeFunction\"]>lower_fence_DiabetesPedigreeFunction)]\n",
    "data8=data7[(data7[\"Age\"]<upper_fence_Age) & (data7[\"Age\"]>lower_fence_Age)]"
   ]
  },
  {
   "cell_type": "code",
   "execution_count": 45,
   "id": "d3785eeb",
   "metadata": {},
   "outputs": [
    {
     "data": {
      "text/html": [
       "<div>\n",
       "<style scoped>\n",
       "    .dataframe tbody tr th:only-of-type {\n",
       "        vertical-align: middle;\n",
       "    }\n",
       "\n",
       "    .dataframe tbody tr th {\n",
       "        vertical-align: top;\n",
       "    }\n",
       "\n",
       "    .dataframe thead th {\n",
       "        text-align: right;\n",
       "    }\n",
       "</style>\n",
       "<table border=\"1\" class=\"dataframe\">\n",
       "  <thead>\n",
       "    <tr style=\"text-align: right;\">\n",
       "      <th></th>\n",
       "      <th>Pregnancies</th>\n",
       "      <th>Glucose</th>\n",
       "      <th>BloodPressure</th>\n",
       "      <th>SkinThickness</th>\n",
       "      <th>Insulin</th>\n",
       "      <th>BMI</th>\n",
       "      <th>DiabetesPedigreeFunction</th>\n",
       "      <th>Age</th>\n",
       "      <th>Outcome</th>\n",
       "    </tr>\n",
       "  </thead>\n",
       "  <tbody>\n",
       "    <tr>\n",
       "      <th>count</th>\n",
       "      <td>207.000000</td>\n",
       "      <td>207.000000</td>\n",
       "      <td>207.000000</td>\n",
       "      <td>207.000000</td>\n",
       "      <td>207.000000</td>\n",
       "      <td>207.000000</td>\n",
       "      <td>207.000000</td>\n",
       "      <td>207.000000</td>\n",
       "      <td>207.000000</td>\n",
       "    </tr>\n",
       "    <tr>\n",
       "      <th>mean</th>\n",
       "      <td>3.265700</td>\n",
       "      <td>113.666667</td>\n",
       "      <td>68.705314</td>\n",
       "      <td>27.125604</td>\n",
       "      <td>114.797101</td>\n",
       "      <td>30.982609</td>\n",
       "      <td>0.453889</td>\n",
       "      <td>29.077295</td>\n",
       "      <td>0.227053</td>\n",
       "    </tr>\n",
       "    <tr>\n",
       "      <th>std</th>\n",
       "      <td>2.321686</td>\n",
       "      <td>24.383067</td>\n",
       "      <td>10.400482</td>\n",
       "      <td>10.005031</td>\n",
       "      <td>57.527515</td>\n",
       "      <td>5.482991</td>\n",
       "      <td>0.230366</td>\n",
       "      <td>6.870071</td>\n",
       "      <td>0.419943</td>\n",
       "    </tr>\n",
       "    <tr>\n",
       "      <th>min</th>\n",
       "      <td>1.000000</td>\n",
       "      <td>68.000000</td>\n",
       "      <td>44.000000</td>\n",
       "      <td>10.000000</td>\n",
       "      <td>15.000000</td>\n",
       "      <td>19.300000</td>\n",
       "      <td>0.101000</td>\n",
       "      <td>22.000000</td>\n",
       "      <td>0.000000</td>\n",
       "    </tr>\n",
       "    <tr>\n",
       "      <th>25%</th>\n",
       "      <td>1.000000</td>\n",
       "      <td>96.000000</td>\n",
       "      <td>61.000000</td>\n",
       "      <td>19.000000</td>\n",
       "      <td>71.000000</td>\n",
       "      <td>26.600000</td>\n",
       "      <td>0.261500</td>\n",
       "      <td>24.000000</td>\n",
       "      <td>0.000000</td>\n",
       "    </tr>\n",
       "    <tr>\n",
       "      <th>50%</th>\n",
       "      <td>3.000000</td>\n",
       "      <td>110.000000</td>\n",
       "      <td>70.000000</td>\n",
       "      <td>27.000000</td>\n",
       "      <td>105.000000</td>\n",
       "      <td>31.600000</td>\n",
       "      <td>0.422000</td>\n",
       "      <td>27.000000</td>\n",
       "      <td>0.000000</td>\n",
       "    </tr>\n",
       "    <tr>\n",
       "      <th>75%</th>\n",
       "      <td>4.500000</td>\n",
       "      <td>128.000000</td>\n",
       "      <td>76.000000</td>\n",
       "      <td>33.000000</td>\n",
       "      <td>156.000000</td>\n",
       "      <td>34.750000</td>\n",
       "      <td>0.627500</td>\n",
       "      <td>33.000000</td>\n",
       "      <td>0.000000</td>\n",
       "    </tr>\n",
       "    <tr>\n",
       "      <th>max</th>\n",
       "      <td>10.000000</td>\n",
       "      <td>174.000000</td>\n",
       "      <td>92.000000</td>\n",
       "      <td>50.000000</td>\n",
       "      <td>284.000000</td>\n",
       "      <td>43.500000</td>\n",
       "      <td>1.057000</td>\n",
       "      <td>50.000000</td>\n",
       "      <td>1.000000</td>\n",
       "    </tr>\n",
       "  </tbody>\n",
       "</table>\n",
       "</div>"
      ],
      "text/plain": [
       "       Pregnancies     Glucose  BloodPressure  SkinThickness     Insulin  \\\n",
       "count   207.000000  207.000000     207.000000     207.000000  207.000000   \n",
       "mean      3.265700  113.666667      68.705314      27.125604  114.797101   \n",
       "std       2.321686   24.383067      10.400482      10.005031   57.527515   \n",
       "min       1.000000   68.000000      44.000000      10.000000   15.000000   \n",
       "25%       1.000000   96.000000      61.000000      19.000000   71.000000   \n",
       "50%       3.000000  110.000000      70.000000      27.000000  105.000000   \n",
       "75%       4.500000  128.000000      76.000000      33.000000  156.000000   \n",
       "max      10.000000  174.000000      92.000000      50.000000  284.000000   \n",
       "\n",
       "              BMI  DiabetesPedigreeFunction         Age     Outcome  \n",
       "count  207.000000                207.000000  207.000000  207.000000  \n",
       "mean    30.982609                  0.453889   29.077295    0.227053  \n",
       "std      5.482991                  0.230366    6.870071    0.419943  \n",
       "min     19.300000                  0.101000   22.000000    0.000000  \n",
       "25%     26.600000                  0.261500   24.000000    0.000000  \n",
       "50%     31.600000                  0.422000   27.000000    0.000000  \n",
       "75%     34.750000                  0.627500   33.000000    0.000000  \n",
       "max     43.500000                  1.057000   50.000000    1.000000  "
      ]
     },
     "execution_count": 45,
     "metadata": {},
     "output_type": "execute_result"
    }
   ],
   "source": [
    "data8.describe()"
   ]
  },
  {
   "cell_type": "code",
   "execution_count": 46,
   "id": "a2809af8",
   "metadata": {},
   "outputs": [
    {
     "data": {
      "image/png": "[encoded data removed]",
      "text/plain": [
       "<Figure size 1440x720 with 8 Axes>"
      ]
     },
     "metadata": {
      "needs_background": "light"
     },
     "output_type": "display_data"
    }
   ],
   "source": [
    "fig,axs=plt.subplots(8,figsize=(20,10))\n",
    "plt1=sns.boxplot(data8['Pregnancies'],ax=axs[0])\n",
    "plt1=sns.boxplot(data8['Glucose'],ax=axs[1])\n",
    "plt1=sns.boxplot(data8['BloodPressure'],ax=axs[2])\n",
    "plt1=sns.boxplot(data8['SkinThickness'],ax=axs[3])\n",
    "plt1=sns.boxplot(data8['Insulin'],ax=axs[4])\n",
    "plt1=sns.boxplot(data8['BMI'],ax=axs[5])\n",
    "plt1=sns.boxplot(data8['DiabetesPedigreeFunction'],ax=axs[6])\n",
    "plt1=sns.boxplot(data8['Age'],ax=axs[7])"
   ]
  },
  {
   "cell_type": "code",
   "execution_count": 47,
   "id": "dc7096bf",
   "metadata": {},
   "outputs": [
    {
     "data": {
      "image/png": "[encoded data removed]",
      "text/plain": [
       "<Figure size 1008x648 with 2 Axes>"
      ]
     },
     "metadata": {
      "needs_background": "light"
     },
     "output_type": "display_data"
    },
    {
     "name": "stdout",
     "output_type": "stream",
     "text": [
      "                          Pregnancies   Glucose  BloodPressure  SkinThickness  \\\n",
      "Pregnancies                  1.000000  0.240561       0.201280       0.207957   \n",
      "Glucose                      0.240561  1.000000       0.173498       0.196414   \n",
      "BloodPressure                0.201280  0.173498       1.000000       0.125989   \n",
      "SkinThickness                0.207957  0.196414       0.125989       1.000000   \n",
      "Insulin                      0.122673  0.556795       0.108554       0.231248   \n",
      "BMI                          0.146227  0.170458       0.223629       0.637278   \n",
      "DiabetesPedigreeFunction     0.017491  0.032484      -0.088017       0.081574   \n",
      "Age                          0.639051  0.328457       0.300270       0.215968   \n",
      "Outcome                      0.191750  0.429835       0.127650       0.228877   \n",
      "\n",
      "                           Insulin       BMI  DiabetesPedigreeFunction  \\\n",
      "Pregnancies               0.122673  0.146227                  0.017491   \n",
      "Glucose                   0.556795  0.170458                  0.032484   \n",
      "BloodPressure             0.108554  0.223629                 -0.088017   \n",
      "SkinThickness             0.231248  0.637278                  0.081574   \n",
      "Insulin                   1.000000  0.287636                  0.181155   \n",
      "BMI                       0.287636  1.000000                  0.076236   \n",
      "DiabetesPedigreeFunction  0.181155  0.076236                  1.000000   \n",
      "Age                       0.151806  0.163624                  0.098956   \n",
      "Outcome                   0.297901  0.213815                  0.228126   \n",
      "\n",
      "                               Age   Outcome  \n",
      "Pregnancies               0.639051  0.191750  \n",
      "Glucose                   0.328457  0.429835  \n",
      "BloodPressure             0.300270  0.127650  \n",
      "SkinThickness             0.215968  0.228877  \n",
      "Insulin                   0.151806  0.297901  \n",
      "BMI                       0.163624  0.213815  \n",
      "DiabetesPedigreeFunction  0.098956  0.228126  \n",
      "Age                       1.000000  0.246278  \n",
      "Outcome                   0.246278  1.000000  \n"
     ]
    }
   ],
   "source": [
    "correlation_metrices=data8.corr()\n",
    "fig=plt.figure(figsize=(14,9))\n",
    "sns.heatmap(correlation_metrices,vmax=.9,square=True,annot=True)\n",
    "plt.show()\n",
    "print(correlation_metrices)"
   ]
  },
  {
   "cell_type": "markdown",
   "id": "f6468104",
   "metadata": {},
   "source": [
    "checking num of people have no diabetes"
   ]
  },
  {
   "cell_type": "code",
   "execution_count": 48,
   "id": "9b5bf790",
   "metadata": {},
   "outputs": [
    {
     "name": "stdout",
     "output_type": "stream",
     "text": [
      "160\n"
     ]
    }
   ],
   "source": [
    "result=sorted(data8[\"Outcome\"]).count(0)\n",
    "print(result)"
   ]
  },
  {
   "cell_type": "markdown",
   "id": "8528d2c3",
   "metadata": {},
   "source": [
    "checking num of people have diabetes"
   ]
  },
  {
   "cell_type": "code",
   "execution_count": 49,
   "id": "e968e279",
   "metadata": {},
   "outputs": [
    {
     "name": "stdout",
     "output_type": "stream",
     "text": [
      "47\n"
     ]
    }
   ],
   "source": [
    "result=sorted(data8[\"Outcome\"]).count(1)\n",
    "print(result)"
   ]
  },
  {
   "cell_type": "markdown",
   "id": "56c4ec7a",
   "metadata": {},
   "source": [
    "printing count plot with seaborn"
   ]
  },
  {
   "cell_type": "code",
   "execution_count": 50,
   "id": "ac0e5686",
   "metadata": {},
   "outputs": [
    {
     "data": {
      "image/png": "[encoded data removed]",
      "text/plain": [
       "<Figure size 432x288 with 1 Axes>"
      ]
     },
     "metadata": {
      "needs_background": "light"
     },
     "output_type": "display_data"
    }
   ],
   "source": [
    "sns.countplot(x=data8.Outcome);\n",
    "plt.title(\"no diabetes vs diabetes\");"
   ]
  },
  {
   "cell_type": "markdown",
   "id": "9f834653",
   "metadata": {},
   "source": [
    "splitting the training and testing data"
   ]
  },
  {
   "cell_type": "code",
   "execution_count": 51,
   "id": "08aee91c",
   "metadata": {},
   "outputs": [],
   "source": [
    "x=data8.drop([\"Outcome\"],axis=1) # drop the target variable\n",
    "y=data8[\"Outcome\"]\n",
    "xtrain,xtest,ytrain,ytest=train_test_split(x,y,test_size=0.2,random_state=42)"
   ]
  },
  {
   "cell_type": "markdown",
   "id": "b8634268",
   "metadata": {},
   "source": [
    "using Logistic regression"
   ]
  },
  {
   "cell_type": "code",
   "execution_count": 52,
   "id": "075ef442",
   "metadata": {},
   "outputs": [
    {
     "data": {
      "text/html": [
       "<style>#sk-container-id-1 {color: black;background-color: white;}#sk-container-id-1 pre{padding: 0;}#sk-container-id-1 div.sk-toggleable {background-color: white;}#sk-container-id-1 label.sk-toggleable__label {cursor: pointer;display: block;width: 100%;margin-bottom: 0;padding: 0.3em;box-sizing: border-box;text-align: center;}#sk-container-id-1 label.sk-toggleable__label-arrow:before {content: \"▸\";float: left;margin-right: 0.25em;color: #696969;}#sk-container-id-1 label.sk-toggleable__label-arrow:hover:before {color: black;}#sk-container-id-1 div.sk-estimator:hover label.sk-toggleable__label-arrow:before {color: black;}#sk-container-id-1 div.sk-toggleable__content {max-height: 0;max-width: 0;overflow: hidden;text-align: left;background-color: #f0f8ff;}#sk-container-id-1 div.sk-toggleable__content pre {margin: 0.2em;color: black;border-radius: 0.25em;background-color: #f0f8ff;}#sk-container-id-1 input.sk-toggleable__control:checked~div.sk-toggleable__content {max-height: 200px;max-width: 100%;overflow: auto;}#sk-container-id-1 input.sk-toggleable__control:checked~label.sk-toggleable__label-arrow:before {content: \"▾\";}#sk-container-id-1 div.sk-estimator input.sk-toggleable__control:checked~label.sk-toggleable__label {background-color: #d4ebff;}#sk-container-id-1 div.sk-label input.sk-toggleable__control:checked~label.sk-toggleable__label {background-color: #d4ebff;}#sk-container-id-1 input.sk-hidden--visually {border: 0;clip: rect(1px 1px 1px 1px);clip: rect(1px, 1px, 1px, 1px);height: 1px;margin: -1px;overflow: hidden;padding: 0;position: absolute;width: 1px;}#sk-container-id-1 div.sk-estimator {font-family: monospace;background-color: #f0f8ff;border: 1px dotted black;border-radius: 0.25em;box-sizing: border-box;margin-bottom: 0.5em;}#sk-container-id-1 div.sk-estimator:hover {background-color: #d4ebff;}#sk-container-id-1 div.sk-parallel-item::after {content: \"\";width: 100%;border-bottom: 1px solid gray;flex-grow: 1;}#sk-container-id-1 div.sk-label:hover label.sk-toggleable__label {background-color: #d4ebff;}#sk-container-id-1 div.sk-serial::before {content: \"\";position: absolute;border-left: 1px solid gray;box-sizing: border-box;top: 0;bottom: 0;left: 50%;z-index: 0;}#sk-container-id-1 div.sk-serial {display: flex;flex-direction: column;align-items: center;background-color: white;padding-right: 0.2em;padding-left: 0.2em;position: relative;}#sk-container-id-1 div.sk-item {position: relative;z-index: 1;}#sk-container-id-1 div.sk-parallel {display: flex;align-items: stretch;justify-content: center;background-color: white;position: relative;}#sk-container-id-1 div.sk-item::before, #sk-container-id-1 div.sk-parallel-item::before {content: \"\";position: absolute;border-left: 1px solid gray;box-sizing: border-box;top: 0;bottom: 0;left: 50%;z-index: -1;}#sk-container-id-1 div.sk-parallel-item {display: flex;flex-direction: column;z-index: 1;position: relative;background-color: white;}#sk-container-id-1 div.sk-parallel-item:first-child::after {align-self: flex-end;width: 50%;}#sk-container-id-1 div.sk-parallel-item:last-child::after {align-self: flex-start;width: 50%;}#sk-container-id-1 div.sk-parallel-item:only-child::after {width: 0;}#sk-container-id-1 div.sk-dashed-wrapped {border: 1px dashed gray;margin: 0 0.4em 0.5em 0.4em;box-sizing: border-box;padding-bottom: 0.4em;background-color: white;}#sk-container-id-1 div.sk-label label {font-family: monospace;font-weight: bold;display: inline-block;line-height: 1.2em;}#sk-container-id-1 div.sk-label-container {text-align: center;}#sk-container-id-1 div.sk-container {/* jupyter's `normalize.less` sets `[hidden] { display: none; }` but bootstrap.min.css set `[hidden] { display: none !important; }` so we also need the `!important` here to be able to override the default hidden behavior on the sphinx rendered scikit-learn.org. See: https://github.com/scikit-learn/scikit-learn/issues/21755 */display: inline-block !important;position: relative;}#sk-container-id-1 div.sk-text-repr-fallback {display: none;}</style><div id=\"sk-container-id-1\" class=\"sk-top-container\"><div class=\"sk-text-repr-fallback\"><pre>LogisticRegression()</pre><b>In a Jupyter environment, please rerun this cell to show the HTML representation or trust the notebook. <br />On GitHub, the HTML representation is unable to render, please try loading this page with nbviewer.org.</b></div><div class=\"sk-container\" hidden><div class=\"sk-item\"><div class=\"sk-estimator sk-toggleable\"><input class=\"sk-toggleable__control sk-hidden--visually\" id=\"sk-estimator-id-1\" type=\"checkbox\" checked><label for=\"sk-estimator-id-1\" class=\"sk-toggleable__label sk-toggleable__label-arrow\">LogisticRegression</label><div class=\"sk-toggleable__content\"><pre>LogisticRegression()</pre></div></div></div></div></div>"
      ],
      "text/plain": [
       "LogisticRegression()"
      ]
     },
     "execution_count": 52,
     "metadata": {},
     "output_type": "execute_result"
    }
   ],
   "source": [
    "l=LogisticRegression()\n",
    "l.fit(xtrain,ytrain)"
   ]
  },
  {
   "cell_type": "code",
   "execution_count": 53,
   "id": "58c9eaf6",
   "metadata": {},
   "outputs": [],
   "source": [
    "y_pred=l.predict(xtest)"
   ]
  },
  {
   "cell_type": "code",
   "execution_count": 54,
   "id": "f91839ad",
   "metadata": {},
   "outputs": [
    {
     "data": {
      "text/plain": [
       "array([0, 1, 0, 1, 0, 0, 1, 0, 0, 0, 0, 0, 0, 0, 0, 0, 0, 0, 0, 0, 0, 0,\n",
       "       0, 0, 0, 0, 0, 0, 0, 0, 0, 0, 0, 0, 0, 0, 0, 0, 0, 0, 0, 0],\n",
       "      dtype=int64)"
      ]
     },
     "execution_count": 54,
     "metadata": {},
     "output_type": "execute_result"
    }
   ],
   "source": [
    "y_pred"
   ]
  },
  {
   "cell_type": "markdown",
   "id": "20d146bc",
   "metadata": {},
   "source": [
    "confusion metric"
   ]
  },
  {
   "cell_type": "code",
   "execution_count": 55,
   "id": "34c7d097",
   "metadata": {},
   "outputs": [
    {
     "name": "stdout",
     "output_type": "stream",
     "text": [
      "[[33  2]\n",
      " [ 6  1]]\n"
     ]
    }
   ],
   "source": [
    "cm=metrics.confusion_matrix(ytest,y_pred)\n",
    "print(cm)"
   ]
  },
  {
   "cell_type": "markdown",
   "id": "5f1173b8",
   "metadata": {},
   "source": [
    "finding the accuracy score"
   ]
  },
  {
   "cell_type": "code",
   "execution_count": 56,
   "id": "15efb968",
   "metadata": {},
   "outputs": [
    {
     "name": "stdout",
     "output_type": "stream",
     "text": [
      "accuracy score of the LogisticRegression model is 80.95238095238095 %\n"
     ]
    }
   ],
   "source": [
    "accuracy=l.score(xtest,ytest)\n",
    "print(\"accuracy score of the LogisticRegression model is\",accuracy*100,\"%\")"
   ]
  },
  {
   "cell_type": "markdown",
   "id": "baef02bf",
   "metadata": {},
   "source": [
    "# checking the accuracy with KNN"
   ]
  },
  {
   "cell_type": "code",
   "execution_count": 57,
   "id": "9217e344",
   "metadata": {},
   "outputs": [],
   "source": [
    "from sklearn.preprocessing import StandardScaler\n",
    "sc=StandardScaler()"
   ]
  },
  {
   "cell_type": "code",
   "execution_count": 58,
   "id": "5f60ff3f",
   "metadata": {},
   "outputs": [
    {
     "data": {
      "text/plain": [
       "Index(['Pregnancies', 'Glucose', 'BloodPressure', 'SkinThickness', 'Insulin',\n",
       "       'BMI', 'DiabetesPedigreeFunction', 'Age'],\n",
       "      dtype='object')"
      ]
     },
     "execution_count": 58,
     "metadata": {},
     "output_type": "execute_result"
    }
   ],
   "source": [
    "col=x.columns\n",
    "col"
   ]
  },
  {
   "cell_type": "code",
   "execution_count": 59,
   "id": "3710d0ad",
   "metadata": {},
   "outputs": [],
   "source": [
    "xtrain=sc.fit_transform(xtrain)\n",
    "xtest=sc.transform(xtest)\n",
    "\n",
    "xtrain=pd.DataFrame(xtrain,columns=col)\n",
    "xtest=pd.DataFrame(xtest,columns=col)"
   ]
  },
  {
   "cell_type": "code",
   "execution_count": 60,
   "id": "8d01dbe0",
   "metadata": {},
   "outputs": [
    {
     "data": {
      "text/plain": [
       "(     Pregnancies   Glucose  BloodPressure  SkinThickness   Insulin       BMI  \\\n",
       " 0       1.080460 -0.383924       0.104781       0.440736 -0.834751 -0.072817   \n",
       " 1      -1.011980 -0.221182      -1.060763      -0.981193  0.031614 -0.497958   \n",
       " 2       2.754412  0.592531       0.687553       0.034471  0.139909  0.869886   \n",
       " 3      -0.175004  0.022932      -0.283733       1.151701  0.464796  1.276542   \n",
       " 4      -1.011980  0.551845       1.853097       1.151701 -0.076682  0.980792   \n",
       " 5       0.661972  0.470474       0.881810      -0.067095 -1.665018 -0.294630   \n",
       " 6       0.243484  1.609671      -0.672248       0.339170  3.063891  0.296870   \n",
       " 7      -1.011980 -1.360380       0.299039      -0.981193 -1.340131 -0.849161   \n",
       " 8      -1.011980 -1.441751       1.076068      -0.270228 -1.394279 -1.070973   \n",
       " 9      -0.175004  2.382698       0.881810       1.151701  1.277013  0.481714   \n",
       " 10      1.498948  1.853785      -1.449277       0.440736  1.096520 -0.128270   \n",
       " 11     -0.593492 -0.587353      -0.089476      -0.270228 -0.780604  1.350479   \n",
       " 12      2.335924 -0.099125       1.270325       0.440736  1.096520  0.555651   \n",
       " 13     -1.011980  0.999387      -2.226306      -0.879626 -0.564012 -0.460989   \n",
       " 14      1.080460 -0.668724      -1.060763       0.542303  1.367259  0.518683   \n",
       " 15     -0.593492 -0.099125       0.881810       2.268931  0.464796  1.516839   \n",
       " 16     -0.175004  1.772414       0.687553       0.847002  2.359969  0.075058   \n",
       " 17      1.498948 -0.831466      -0.477991      -0.270228 -0.636209  0.389292   \n",
       " 18      0.661972 -0.221182      -0.672248       1.354834  0.266254  0.851401   \n",
       " 19      1.917436  0.470474       0.493296       1.050135 -0.708406 -0.978551   \n",
       " 20     -0.175004 -1.034894       0.493296      -1.184325 -0.527914 -0.146755   \n",
       " 21     -0.175004 -1.238323      -0.089476       0.237604 -0.148879  0.130511   \n",
       " 22     -0.175004 -0.750095      -1.255020       0.643869  0.013564 -1.200364   \n",
       " 23     -1.011980 -0.343239       0.104781       0.034471  0.374550  0.555651   \n",
       " 24     -0.175004  0.226360       0.104781       0.237604  0.374550  2.163792   \n",
       " 25     -1.011980 -0.790781      -0.283733      -1.489025 -1.376229 -2.143067   \n",
       " 26     -0.175004  2.260642      -0.477991       0.948568  1.998984  0.611104   \n",
       " 27     -1.011980 -1.034894       0.687553       0.643869 -1.394279  0.001120   \n",
       " 28      1.498948 -0.505981       0.493296       1.253267 -0.166928  1.110182   \n",
       " 29     -0.175004 -0.058439      -1.837792      -1.793724 -0.527914 -0.313114   \n",
       " 30      0.661972 -0.628038      -1.449277       0.034471 -0.564012  0.518683   \n",
       " 31      0.243484 -1.238323       2.047354      -0.473361 -1.051343  1.535323   \n",
       " 32      0.661972  1.772414       1.464582       1.354834  1.728245  1.516839   \n",
       " 33     -0.593492 -1.279008      -0.283733      -0.473361 -1.159638  0.185964   \n",
       " 34     -0.593492 -0.831466       0.687553      -0.981193 -0.870850  0.075058   \n",
       " 35      2.754412  1.894471      -0.089476      -0.473361  0.320402 -1.052489   \n",
       " 36     -0.593492 -1.075580       0.493296      -0.879626 -1.105490 -0.405536   \n",
       " 37      0.243484 -1.197637      -1.060763      -0.574927 -1.177687 -0.627348   \n",
       " 38     -0.593492  1.650357       0.493296      -1.082759 -0.329372 -0.849161   \n",
       " 39      0.661972  0.348417       0.493296       1.253267 -0.672308  0.537167   \n",
       " 40     -0.175004 -1.279008      -1.060763       0.339170 -1.737215  0.574136   \n",
       " 41     -0.175004  0.592531       2.241612       2.167365  0.735535  0.962307   \n",
       " 42      0.661972  0.877330       1.464582       1.354834 -0.473766  0.703526   \n",
       " 43      0.661972  0.104303       1.658840       0.237604 -0.166928  1.461385   \n",
       " 44     -0.175004  0.470474       1.853097       1.354834  2.179477  1.498354   \n",
       " 45     -0.593492  0.389103      -0.089476       0.034471  1.637999  0.315355   \n",
       " 46     -1.011980 -1.441751      -0.866505       1.456400 -1.195737  2.274698   \n",
       " 47      1.498948 -0.017754       0.687553      -1.082759 -0.076682 -1.366723   \n",
       " 48     -1.011980 -0.099125       0.299039       0.237604  1.114570  0.592620   \n",
       " 49     -1.011980  0.633216       0.104781      -1.489025 -0.166928 -0.978551   \n",
       " 50     -1.011980  0.307731      -0.477991       0.440736  0.753584  0.722011   \n",
       " 51      1.917436 -0.587353       0.493296       1.253267  1.818491  1.516839   \n",
       " 52     -0.593492 -0.750095      -0.089476      -1.489025 -1.177687 -1.865801   \n",
       " 53      0.243484  0.104303      -0.477991      -0.067095  0.103811  0.370808   \n",
       " 54     -0.175004 -1.645179      -0.089476       0.034471 -1.249885 -0.276145   \n",
       " 55     -1.011980 -1.767236      -2.032049      -0.981193 -0.690357 -1.995192   \n",
       " 56     -0.175004  0.063618       0.493296      -1.285892 -0.166928 -0.904614   \n",
       " 57     -1.011980  2.016528       1.270325       1.557967 -0.852801  0.296870   \n",
       " 58     -1.011980  0.104303       1.853097      -0.371794  0.555042  0.611104   \n",
       " 59     -0.593492  1.080758      -1.060763       0.643869  0.248205 -1.070973   \n",
       " 60     -0.175004 -0.505981      -2.420564      -0.778060 -0.365470 -0.072817   \n",
       " 61     -0.593492 -0.099125       1.658840       1.456400  0.825781  1.331995   \n",
       " 62     -0.175004 -1.075580      -1.060763      -1.692157 -1.087441 -1.181879   \n",
       " 63     -0.175004  2.301327       0.299039       0.542303  0.374550  0.389292   \n",
       " 64     -1.011980  0.185674      -2.420564       1.964232 -0.924998  0.795948   \n",
       " 65     -1.011980  0.063618       0.881810       0.136037  1.186767  0.906854   \n",
       " 66     -1.011980 -1.075580       0.881810       0.136037 -0.690357  0.148995   \n",
       " 67     -1.011980 -0.709409      -0.283733      -1.285892  0.464796 -1.477629   \n",
       " 68     -1.011980  0.144989      -1.060763       0.847002 -0.365470  0.389292   \n",
       " 69     -0.175004  0.592531      -0.477991       0.136037  0.013564 -0.886129   \n",
       " 70      0.243484 -0.180496       0.687553      -0.778060 -0.257175 -0.516442   \n",
       " 71     -1.011980 -0.587353       0.299039      -1.590591 -0.798653 -1.089458   \n",
       " 72     -1.011980 -1.116266      -0.089476       0.643869 -0.672308  1.184120   \n",
       " 73     -1.011980 -0.790781       1.270325      -0.270228  1.186767  0.703526   \n",
       " 74      0.661972 -1.075580      -0.283733      -0.676494 -1.646968 -1.255817   \n",
       " 75      0.243484 -0.953523       0.104781       0.440736 -0.473766  0.352323   \n",
       " 76      0.661972 -1.156951      -0.089476       0.034471 -0.780604 -0.183723   \n",
       " 77     -0.593492 -0.790781      -1.449277      -1.387458 -0.473766 -0.941583   \n",
       " 78     -1.011980  2.138585       0.493296      -1.082759  0.536993 -1.440661   \n",
       " 79     -0.175004 -1.482436      -1.837792       0.440736 -0.473766 -0.035848   \n",
       " 80     -0.593492  0.267046       0.104781       0.440736 -0.347421  1.461385   \n",
       " 81      1.080460  0.348417       0.299039       1.761099  2.089230  0.444745   \n",
       " 82      0.661972 -0.261868       0.299039       1.557967 -0.708406  0.906854   \n",
       " 83     -0.175004 -0.343239      -1.449277      -0.676494  0.789683 -0.054333   \n",
       " 84     -0.593492 -0.994209       1.076068      -1.387458 -1.069392 -1.255817   \n",
       " 85     -0.175004 -0.139811       2.047354      -1.590591 -0.654259 -0.516442   \n",
       " 86     -0.175004  0.389103       1.076068       0.542303  0.284303  0.370808   \n",
       " 87     -1.011980 -0.221182      -1.255020      -0.676494  0.374550 -1.107942   \n",
       " 88      2.335924  0.226360       0.299039      -0.574927 -1.051343 -1.921254   \n",
       " 89      1.080460 -0.872152      -1.837792       0.237604 -0.906948 -0.460989   \n",
       " 90     -1.011980  1.040073       0.493296      -0.168662  1.186767 -1.311270   \n",
       " 91      0.243484  1.609671       0.299039       0.136037  0.212106  0.019605   \n",
       " 92     -0.175004 -0.628038       1.076068      -1.692157 -0.906948 -2.198520   \n",
       " 93     -1.011980  0.877330       0.493296       2.268931  1.619949  1.147151   \n",
       " 94     -1.011980  0.104303      -0.866505      -0.473361 -0.148879  0.481714   \n",
       " 95     -0.593492 -1.604493      -0.477991      -0.371794 -1.069392 -0.276145   \n",
       " 96     -0.175004 -0.628038      -0.672248      -0.879626 -0.726456 -1.736410   \n",
       " 97      2.335924  1.609671       0.881810       0.237604 -0.257175 -0.054333   \n",
       " 98      1.080460 -0.424610       0.493296      -0.981193  0.753584 -0.239177   \n",
       " 99      0.243484  0.673902      -0.089476      -0.676494  0.934077  0.352323   \n",
       " 100     2.754412  0.429788       0.104781      -0.168662  0.013564 -0.017364   \n",
       " 101    -0.175004 -0.587353      -0.089476      -0.473361 -0.600111  0.075058   \n",
       " 102     0.243484 -0.221182      -0.477991       1.659533 -0.275224  0.666558   \n",
       " 103    -0.175004 -0.628038      -1.449277      -0.879626 -0.509865 -1.034004   \n",
       " 104     1.498948  0.592531      -0.089476       2.167365  0.194057  1.350479   \n",
       " 105    -0.175004  2.423384      -1.060763      -0.574927  1.439457  0.315355   \n",
       " 106    -0.593492 -0.872152      -0.477991       0.440736  0.825781  1.258057   \n",
       " 107     0.661972  0.999387       1.076068       0.745436  0.825781  0.075058   \n",
       " 108    -0.593492 -0.099125      -0.089476      -0.574927 -0.365470  0.537167   \n",
       " 109     0.243484  2.382698       0.104781      -1.387458  0.970176 -0.276145   \n",
       " 110     0.243484 -0.465296      -0.866505       0.542303  1.403358 -1.329754   \n",
       " 111    -0.593492  0.348417      -2.032049       0.440736  0.916028  2.015917   \n",
       " 112    -1.011980 -0.790781       0.493296      -0.676494 -0.744505 -0.978551   \n",
       " 113     0.243484  0.592531      -0.866505      -1.590591  2.107279 -0.682801   \n",
       " 114    -0.593492 -0.546667      -1.060763      -1.082759  2.720955 -1.292786   \n",
       " 115    -0.593492 -0.343239      -1.255020      -0.067095  0.916028 -0.405536   \n",
       " 116     2.335924  1.528300       0.881810       0.643869  1.024323  0.555651   \n",
       " 117    -1.011980 -0.465296       1.076068      -1.692157 -0.582062 -2.180035   \n",
       " 118     0.243484  1.284186       1.561711      -0.067095 -0.257175 -0.424020   \n",
       " 119    -1.011980 -1.116266       0.881810      -0.067095 -1.484525  0.629589   \n",
       " 120     2.335924  1.243501       1.076068       1.862666  0.284303  1.239573   \n",
       " 121     1.080460  1.609671       0.493296       0.440736  1.421407 -0.350083   \n",
       " 122     1.498948 -1.279008       0.881810      -0.168662 -0.780604 -0.350083   \n",
       " 123     1.080460  1.487615      -0.672248       0.339170  0.103811  0.795948   \n",
       " 124     1.080460  2.057213      -0.089476      -0.168662  0.970176  0.444745   \n",
       " 125    -0.175004  1.975842       0.104781      -0.981193 -0.166928  0.075058   \n",
       " 126    -1.011980 -0.953523      -1.449277      -0.270228 -0.257175 -1.107942   \n",
       " 127    -0.593492  0.307731       0.687553      -0.067095  1.547752  0.869886   \n",
       " 128    -0.593492  1.284186       0.687553       0.745436  1.439457  1.295026   \n",
       " 129    -0.593492 -0.628038       0.104781      -1.184325 -1.267934 -1.995192   \n",
       " 130     0.243484  0.063618       0.299039      -1.590591 -0.491815 -1.680957   \n",
       " 131     2.335924  0.348417       0.104781       1.659533 -0.365470  0.352323   \n",
       " 132    -1.011980  0.267046       0.881810       1.151701 -0.726456  1.442901   \n",
       " 133     1.498948 -0.709409       0.687553       0.440736 -0.419618  1.794104   \n",
       " 134    -1.011980 -0.587353      -0.283733      -1.285892 -1.051343 -1.403692   \n",
       " 135     1.917436 -0.221182       0.687553       1.151701 -0.004485 -0.608864   \n",
       " 136    -1.011980 -0.790781      -0.866505      -0.981193 -1.015244 -1.348239   \n",
       " 137     1.080460  1.202815       0.299039      -0.067095  2.053132  0.500198   \n",
       " 138     1.080460  0.429788      -0.089476       0.237604  0.103811 -0.220692   \n",
       " 139    -1.011980 -0.912838      -0.672248      -0.270228 -1.322082 -2.161551   \n",
       " 140    -0.175004  0.633216       0.881810      -0.473361 -0.636209 -0.516442   \n",
       " 141    -0.593492 -1.279008      -0.380862       0.034471 -0.870850  1.036245   \n",
       " 142    -0.593492 -0.261868      -1.643535      -0.168662 -0.924998  0.241417   \n",
       " 143     1.080460 -0.261868      -2.420564      -0.778060  0.284303 -1.329754   \n",
       " 144    -1.011980 -0.261868      -0.866505       1.862666  1.150668  0.795948   \n",
       " 145    -1.011980  0.022932       0.104781       0.237604 -0.329372  0.629589   \n",
       " 146    -0.175004 -0.302553      -0.672248      -1.489025 -1.195737 -1.533082   \n",
       " 147     1.498948  0.389103       0.104781       0.542303  1.818491 -1.052489   \n",
       " 148    -0.593492 -1.360380       0.299039      -1.285892 -0.690357 -0.202208   \n",
       " 149     1.080460 -0.628038      -0.866505      -0.879626 -1.087441 -0.793708   \n",
       " 150    -1.011980  0.429788       0.104781      -0.371794 -0.076682 -1.274301   \n",
       " 151    -0.593492 -0.383924      -1.060763       1.253267 -0.365470  0.685042   \n",
       " 152    -1.011980 -1.401065       0.493296      -1.692157 -0.979145 -0.220692   \n",
       " 153    -0.593492 -1.116266      -1.060763      -1.184325 -1.123540  0.278386   \n",
       " 154     0.661972 -1.523122       1.270325       1.354834 -1.304032  0.851401   \n",
       " 155    -0.593492 -0.587353      -1.449277       0.034471 -0.166928  1.221089   \n",
       " 156     0.661972  0.267046       0.299039      -0.473361 -0.040584 -0.923098   \n",
       " 157     0.243484  0.348417       1.076068      -1.285892  1.114570  0.148995   \n",
       " 158    -0.175004  2.219956       0.493296      -0.879626  0.194057 -0.239177   \n",
       " 159    -1.011980  0.551845      -2.032049       1.761099  1.439457  1.720167   \n",
       " 160    -1.011980 -0.587353      -0.283733       0.136037  1.475555  0.148995   \n",
       " 161    -0.593492 -0.587353      -0.283733      -0.778060 -0.437667  0.315355   \n",
       " 162     1.917436  0.470474       1.853097       0.847002 -0.112781  1.350479   \n",
       " 163    -1.011980 -0.099125       1.076068       1.761099  0.320402  0.666558   \n",
       " 164    -1.011980 -0.302553       0.299039       0.237604 -0.582062 -0.072817   \n",
       " \n",
       "      DiabetesPedigreeFunction       Age  \n",
       " 0                   -1.451289  1.047448  \n",
       " 1                   -1.025691 -1.080987  \n",
       " 2                   -0.758046  1.331239  \n",
       " 3                   -1.328436 -0.229613  \n",
       " 4                    2.651128  1.047448  \n",
       " 5                   -0.060416  1.473134  \n",
       " 6                   -0.946714 -0.939091  \n",
       " 7                   -0.744884 -0.797195  \n",
       " 8                    0.571400 -1.080987  \n",
       " 9                    2.269406  0.196074  \n",
       " 10                   0.593338  1.331239  \n",
       " 11                  -0.564992 -0.513404  \n",
       " 12                  -0.845799  0.905552  \n",
       " 13                   0.882921 -1.080987  \n",
       " 14                  -0.099905  1.898821  \n",
       " 15                  -1.218746 -0.797195  \n",
       " 16                   1.747280 -0.229613  \n",
       " 17                   1.251480  1.615030  \n",
       " 18                   0.268655 -0.655300  \n",
       " 19                  -1.275785  1.331239  \n",
       " 20                   0.430997  1.189343  \n",
       " 21                   0.606501 -0.655300  \n",
       " 22                   2.155328  1.331239  \n",
       " 23                  -1.363537 -1.080987  \n",
       " 24                  -0.003377  0.054178  \n",
       " 25                  -0.521115 -0.655300  \n",
       " 26                  -0.424588  0.054178  \n",
       " 27                  -1.144156 -0.939091  \n",
       " 28                  -1.091505  2.182612  \n",
       " 29                   0.760067 -0.655300  \n",
       " 30                   0.202841  0.054178  \n",
       " 31                  -1.288948 -0.655300  \n",
       " 32                  -0.253471 -0.087717  \n",
       " 33                   0.194065 -1.080987  \n",
       " 34                   0.860983 -0.939091  \n",
       " 35                  -0.556216  2.466404  \n",
       " 36                  -0.981815 -1.080987  \n",
       " 37                  -0.643969 -0.229613  \n",
       " 38                  -0.086742 -0.371508  \n",
       " 39                  -0.806310 -0.229613  \n",
       " 40                  -0.512340 -0.655300  \n",
       " 41                   2.260631  0.337970  \n",
       " 42                  -0.731721  0.763656  \n",
       " 43                  -0.885287  1.756926  \n",
       " 44                   1.102301 -0.371508  \n",
       " 45                   1.852583  0.054178  \n",
       " 46                   0.988223 -0.939091  \n",
       " 47                   0.058049  0.196074  \n",
       " 48                   0.330081 -0.655300  \n",
       " 49                   0.084375 -1.080987  \n",
       " 50                   1.049650  0.054178  \n",
       " 51                   0.913634  1.898821  \n",
       " 52                   0.852207 -0.513404  \n",
       " 53                  -0.977427 -0.797195  \n",
       " 54                  -0.701008 -0.939091  \n",
       " 55                  -0.569379 -1.080987  \n",
       " 56                  -1.517103 -0.797195  \n",
       " 57                  -0.490402  2.892090  \n",
       " 58                  -0.218370  1.473134  \n",
       " 59                   1.080363 -0.797195  \n",
       " 60                  -0.231533 -0.513404  \n",
       " 61                  -0.907225 -0.229613  \n",
       " 62                  -0.815085 -1.080987  \n",
       " 63                  -1.113443 -0.797195  \n",
       " 64                  -0.758046 -0.655300  \n",
       " 65                   0.189678 -0.655300  \n",
       " 66                  -0.385099 -0.087717  \n",
       " 67                   0.150189 -1.080987  \n",
       " 68                  -0.841411 -0.939091  \n",
       " 69                  -1.025691 -0.229613  \n",
       " 70                  -1.468840 -0.371508  \n",
       " 71                   0.900471 -0.229613  \n",
       " 72                  -0.227145 -0.797195  \n",
       " 73                  -0.964264  1.898821  \n",
       " 74                  -0.486015  0.054178  \n",
       " 75                  -0.029703 -1.080987  \n",
       " 76                  -0.389487 -0.797195  \n",
       " 77                   1.295356 -1.080987  \n",
       " 78                  -0.025315  0.479865  \n",
       " 79                  -0.898450 -0.513404  \n",
       " 80                   1.900847 -0.939091  \n",
       " 81                   1.229542  0.621761  \n",
       " 82                  -0.832636  0.479865  \n",
       " 83                  -0.705395 -0.797195  \n",
       " 84                  -0.894062 -0.797195  \n",
       " 85                   0.185290 -0.087717  \n",
       " 86                  -0.648356 -0.513404  \n",
       " 87                   1.668303 -0.939091  \n",
       " 88                   1.229542  2.608299  \n",
       " 89                  -0.424588 -0.939091  \n",
       " 90                   1.646365 -0.939091  \n",
       " 91                  -0.503565  1.047448  \n",
       " 92                  -0.740496  0.054178  \n",
       " 93                  -0.235921 -0.797195  \n",
       " 94                   0.058049 -0.371508  \n",
       " 95                  -0.363161  0.479865  \n",
       " 96                  -0.762434 -0.513404  \n",
       " 97                  -1.267010  2.182612  \n",
       " 98                   1.181278  1.615030  \n",
       " 99                  -1.284560 -0.229613  \n",
       " 100                 -1.087117  1.615030  \n",
       " 101                  2.177266 -0.229613  \n",
       " 102                  1.984211 -0.513404  \n",
       " 103                 -1.310886 -0.797195  \n",
       " 104                 -0.060416  1.898821  \n",
       " 105                  0.615276  0.905552  \n",
       " 106                  0.970673 -0.939091  \n",
       " 107                 -0.402650 -0.655300  \n",
       " 108                 -0.604480 -0.513404  \n",
       " 109                 -0.402650  0.479865  \n",
       " 110                  2.251856  0.479865  \n",
       " 111                  0.294981 -0.513404  \n",
       " 112                  0.966285  0.905552  \n",
       " 113                  0.325694  0.196074  \n",
       " 114                  0.707416 -0.939091  \n",
       " 115                 -0.117455 -1.080987  \n",
       " 116                  1.931560  0.479865  \n",
       " 117                  0.167740 -1.080987  \n",
       " 118                 -1.157319 -0.371508  \n",
       " 119                 -1.543429 -1.080987  \n",
       " 120                  0.808331  1.473134  \n",
       " 121                  1.694629  1.331239  \n",
       " 122                  1.378721  0.905552  \n",
       " 123                  1.049650 -0.229613  \n",
       " 124                  0.782006  2.750195  \n",
       " 125                 -0.810698 -0.229613  \n",
       " 126                 -0.959877 -0.939091  \n",
       " 127                  0.132639 -0.513404  \n",
       " 128                 -0.543053 -0.087717  \n",
       " 129                 -0.955489 -0.371508  \n",
       " 130                  0.044887  1.047448  \n",
       " 131                 -0.345611  1.473134  \n",
       " 132                 -0.841411 -0.229613  \n",
       " 133                  1.835033  0.337970  \n",
       " 134                  0.935572 -0.513404  \n",
       " 135                  0.821494  0.196074  \n",
       " 136                 -0.845799 -1.080987  \n",
       " 137                 -0.867737  1.473134  \n",
       " 138                  0.049274  0.337970  \n",
       " 139                  0.128251 -0.655300  \n",
       " 140                 -0.569379  0.621761  \n",
       " 141                  0.773230 -0.797195  \n",
       " 142                 -0.591317 -1.080987  \n",
       " 143                  1.580551  0.763656  \n",
       " 144                 -0.165719 -0.797195  \n",
       " 145                  0.334469  0.337970  \n",
       " 146                  0.988223 -0.939091  \n",
       " 147                 -1.280172  1.047448  \n",
       " 148                  0.413446 -0.655300  \n",
       " 149                  0.194065  0.337970  \n",
       " 150                 -1.016916 -0.655300  \n",
       " 151                 -0.999365 -0.655300  \n",
       " 152                  0.325694 -1.080987  \n",
       " 153                 -1.258234 -0.655300  \n",
       " 154                 -1.302110  0.763656  \n",
       " 155                  0.198453 -0.797195  \n",
       " 156                 -0.911613  0.054178  \n",
       " 157                 -0.042866  0.621761  \n",
       " 158                 -0.810698  0.196074  \n",
       " 159                  0.703028 -0.797195  \n",
       " 160                 -0.038478  1.756926  \n",
       " 161                  1.817482 -0.229613  \n",
       " 162                 -0.455301  2.750195  \n",
       " 163                 -1.034466 -0.797195  \n",
       " 164                  1.615652 -0.797195  ,\n",
       "     Pregnancies   Glucose  BloodPressure  SkinThickness   Insulin       BMI  \\\n",
       " 0     -1.011980 -0.139811      -0.672248      -1.489025  1.222865 -1.329754   \n",
       " 1      0.661972  0.999387      -0.477991       0.745436  0.464796 -0.479473   \n",
       " 2     -0.593492  1.202815      -1.060763       0.542303  0.374550  0.075058   \n",
       " 3     -1.011980  0.429788      -1.837792       1.253267  0.952126  0.389292   \n",
       " 4      0.243484 -0.994209       1.853097       1.964232 -1.087441  1.202604   \n",
       " 5     -1.011980 -0.546667      -1.837792      -1.285892 -1.412328 -1.292786   \n",
       " 6     -0.593492  0.307731      -1.643535       1.557967  0.789683  0.925339   \n",
       " 7     -0.593492 -1.889293       0.104781       0.440736 -0.870850 -1.144911   \n",
       " 8     -0.593492 -0.180496       0.493296       0.136037  0.194057  0.222933   \n",
       " 9     -1.011980 -1.238323      -0.477991      -0.473361  0.013564  1.054729   \n",
       " 10    -0.175004 -0.465296       0.299039       0.237604  0.681387 -0.664317   \n",
       " 11    -0.593492 -0.302553       0.493296       0.237604 -0.257175  0.444745   \n",
       " 12    -0.593492 -0.668724      -0.866505      -1.082759  0.103811  0.648073   \n",
       " 13    -0.593492 -1.075580      -1.060763      -0.168662 -1.773313 -0.516442   \n",
       " 14    -0.593492 -0.383924       1.076068       1.761099  1.385309  0.463230   \n",
       " 15    -1.011980  1.406243      -0.089476       0.136037  0.230156 -0.350083   \n",
       " 16    -0.593492 -1.889293      -0.672248      -1.489025 -1.791363 -2.050645   \n",
       " 17     0.243484  0.511159       1.853097      -1.692157  0.735535  0.611104   \n",
       " 18    -1.011980  1.731728       0.299039      -0.676494  0.970176 -1.034004   \n",
       " 19    -0.593492  0.226360       0.687553       0.948568 -0.166928  1.572292   \n",
       " 20     1.917436 -1.645179       0.104781       1.253267 -1.177687  0.758979   \n",
       " 21    -1.011980 -0.587353       0.493296      -1.590591 -1.231835 -2.161551   \n",
       " 22    -1.011980  0.185674      -1.449277      -1.489025 -1.159638 -1.643989   \n",
       " 23    -1.011980 -1.116266      -0.866505       0.948568 -0.708406  1.110182   \n",
       " 24     0.243484 -0.750095      -1.255020      -1.082759 -1.177687 -1.921254   \n",
       " 25     0.243484  1.202815      -1.060763       0.034471  0.464796 -0.313114   \n",
       " 26    -1.011980 -0.994209      -0.672248      -1.590591 -1.285983 -0.738255   \n",
       " 27     0.243484  0.592531       1.658840      -0.778060  2.811201  0.722011   \n",
       " 28    -0.175004  0.551845       0.299039      -0.270228  1.367259  0.222933   \n",
       " 29    -0.593492  0.592531       0.493296      -0.168662  1.637999  0.370808   \n",
       " 30    -0.175004 -0.139811      -1.060763       0.339170 -1.267934 -0.313114   \n",
       " 31     1.498948  0.755273       1.853097      -1.285892  0.735535  0.222933   \n",
       " 32    -0.593492 -0.261868      -0.672248      -1.793724  2.955595 -1.089458   \n",
       " 33    -1.011980 -1.319694      -0.477991      -1.489025 -0.347421 -1.847317   \n",
       " 34    -1.011980 -1.075580      -0.672248      -0.371794 -1.267934 -0.239177   \n",
       " 35    -0.175004 -1.360380       1.658840      -1.184325 -0.870850 -0.682801   \n",
       " 36    -0.593492  0.307731      -0.866505      -0.981193 -0.148879 -0.257661   \n",
       " 37    -1.011980  0.551845       1.270325      -1.082759  1.240915 -0.682801   \n",
       " 38     1.080460  0.795959       0.104781      -0.473361  0.284303  0.777464   \n",
       " 39     1.917436  1.487615       0.881810       0.440736  1.728245  2.163792   \n",
       " 40     0.661972 -0.750095       0.493296      -0.981193 -0.852801  0.444745   \n",
       " 41    -0.593492 -0.546667      -1.060763       0.745436 -0.437667 -1.736410   \n",
       " \n",
       "     DiabetesPedigreeFunction       Age  \n",
       " 0                  -1.381087 -0.939091  \n",
       " 1                  -0.183269 -0.513404  \n",
       " 2                  -0.135006 -0.655300  \n",
       " 3                   2.234305 -0.229613  \n",
       " 4                  -0.398262 -0.087717  \n",
       " 5                   0.321306 -0.513404  \n",
       " 6                   1.593714 -0.229613  \n",
       " 7                  -1.166094 -0.655300  \n",
       " 8                   1.075976 -0.371508  \n",
       " 9                   0.079988 -0.229613  \n",
       " 10                  1.216379 -0.371508  \n",
       " 11                 -0.213983 -0.939091  \n",
       " 12                 -1.117831 -1.080987  \n",
       " 13                  1.374333 -1.080987  \n",
       " 14                  1.133015 -0.087717  \n",
       " 15                 -0.455301  1.756926  \n",
       " 16                 -0.858962 -0.939091  \n",
       " 17                  0.637214 -0.229613  \n",
       " 18                 -1.446902 -0.797195  \n",
       " 19                 -1.043241 -0.087717  \n",
       " 20                  1.106689  1.331239  \n",
       " 21                 -1.332824 -0.229613  \n",
       " 22                 -1.087117 -0.797195  \n",
       " 23                  0.246717 -1.080987  \n",
       " 24                 -0.494790 -0.513404  \n",
       " 25                 -0.727333  1.047448  \n",
       " 26                  0.558237 -0.797195  \n",
       " 27                 -0.973040 -0.939091  \n",
       " 28                  0.422221 -0.371508  \n",
       " 29                  0.606501 -0.655300  \n",
       " 30                 -0.099905 -1.080987  \n",
       " 31                 -0.837024  1.047448  \n",
       " 32                  1.878909 -1.080987  \n",
       " 33                 -0.165719 -0.939091  \n",
       " 34                 -0.135006 -0.939091  \n",
       " 35                 -0.643969 -1.080987  \n",
       " 36                  1.159340 -1.080987  \n",
       " 37                 -1.482003 -1.080987  \n",
       " 38                  0.391508 -0.087717  \n",
       " 39                  0.277430  0.905552  \n",
       " 40                  2.387872  1.898821  \n",
       " 41                 -1.306498 -1.080987  ,\n",
       " 329    0\n",
       " 742    0\n",
       " 281    0\n",
       " 318    0\n",
       " 755    1\n",
       " 711    0\n",
       " 144    0\n",
       " 103    0\n",
       " 232    0\n",
       " 716    1\n",
       " 114    1\n",
       " 87     0\n",
       " 214    1\n",
       " 346    0\n",
       " 668    0\n",
       " 591    0\n",
       " 31     1\n",
       " 503    0\n",
       " 216    1\n",
       " 478    0\n",
       " 431    0\n",
       " 551    0\n",
       " 396    0\n",
       " 654    0\n",
       " 126    0\n",
       " 68     0\n",
       " 132    1\n",
       " 112    0\n",
       " 161    0\n",
       " 313    0\n",
       " 365    0\n",
       " 543    0\n",
       " 195    1\n",
       " 441    0\n",
       " 637    0\n",
       " 306    1\n",
       " 158    0\n",
       " 482    0\n",
       " 312    1\n",
       " 652    0\n",
       " 108    0\n",
       " 539    1\n",
       " 402    1\n",
       " 723    0\n",
       " 20     0\n",
       " 309    1\n",
       " 173    0\n",
       " 477    0\n",
       " 411    0\n",
       " 340    0\n",
       " 326    1\n",
       " 540    1\n",
       " 134    0\n",
       " 442    0\n",
       " 234    0\n",
       " 97     0\n",
       " 527    0\n",
       " 548    0\n",
       " 128    1\n",
       " 63     0\n",
       " 741    0\n",
       " 620    0\n",
       " 32     0\n",
       " 110    1\n",
       " 575    0\n",
       " 726    0\n",
       " 544    0\n",
       " 27     0\n",
       " 127    0\n",
       " 419    1\n",
       " 704    0\n",
       " 446    0\n",
       " 562    0\n",
       " 429    1\n",
       " 52     0\n",
       " 241    0\n",
       " 457    0\n",
       " 565    0\n",
       " 646    1\n",
       " 6      1\n",
       " 692    0\n",
       " 594    0\n",
       " 289    0\n",
       " 610    0\n",
       " 252    0\n",
       " 169    0\n",
       " 521    0\n",
       " 157    0\n",
       " 460    0\n",
       " 98     0\n",
       " 688    0\n",
       " 568    0\n",
       " 316    0\n",
       " 150    0\n",
       " 651    0\n",
       " 174    0\n",
       " 348    0\n",
       " 669    0\n",
       " 165    1\n",
       " 547    0\n",
       " 25     1\n",
       " 389    0\n",
       " 198    1\n",
       " 514    0\n",
       " 693    1\n",
       " 611    1\n",
       " 709    1\n",
       " 189    1\n",
       " 315    0\n",
       " 130    1\n",
       " 35     0\n",
       " 405    0\n",
       " 341    0\n",
       " 320    0\n",
       " 679    0\n",
       " 733    0\n",
       " 338    1\n",
       " 50     0\n",
       " 69     0\n",
       " 225    0\n",
       " 663    1\n",
       " 499    0\n",
       " 82     0\n",
       " 295    0\n",
       " 670    0\n",
       " 515    1\n",
       " 650    0\n",
       " 700    0\n",
       " 244    0\n",
       " 203    0\n",
       " 393    0\n",
       " 191    0\n",
       " 751    0\n",
       " 638    1\n",
       " 224    0\n",
       " 188    1\n",
       " 334    0\n",
       " 95     0\n",
       " 217    0\n",
       " 607    0\n",
       " 730    1\n",
       " 490    0\n",
       " 142    0\n",
       " 576    0\n",
       " 718    0\n",
       " 19     1\n",
       " 197    1\n",
       " 555    0\n",
       " 497    0\n",
       " 563    0\n",
       " 384    0\n",
       " 373    0\n",
       " 432    0\n",
       " 331    0\n",
       " 302    0\n",
       " 454    0\n",
       " 765    0\n",
       " 91     0\n",
       " 696    1\n",
       " 293    1\n",
       " 390    0\n",
       " 70     1\n",
       " 345    0\n",
       " 665    0\n",
       " 380    0\n",
       " Name: Outcome, dtype: int64,\n",
       " 609    0\n",
       " 71     0\n",
       " 301    1\n",
       " 356    1\n",
       " 625    0\n",
       " 51     0\n",
       " 374    0\n",
       " 520    0\n",
       " 85     0\n",
       " 554    0\n",
       " 644    0\n",
       " 122    0\n",
       " 573    0\n",
       " 760    0\n",
       " 476    1\n",
       " 722    1\n",
       " 617    0\n",
       " 698    0\n",
       " 325    0\n",
       " 305    0\n",
       " 462    0\n",
       " 639    0\n",
       " 385    0\n",
       " 377    0\n",
       " 288    0\n",
       " 107    0\n",
       " 353    0\n",
       " 73     0\n",
       " 541    1\n",
       " 685    0\n",
       " 572    0\n",
       " 282    0\n",
       " 279    0\n",
       " 450    0\n",
       " 553    0\n",
       " 368    0\n",
       " 530    0\n",
       " 633    0\n",
       " 171    1\n",
       " 424    1\n",
       " 265    0\n",
       " 656    0\n",
       " Name: Outcome, dtype: int64)"
      ]
     },
     "execution_count": 60,
     "metadata": {},
     "output_type": "execute_result"
    }
   ],
   "source": [
    "xtrain,xtest,ytrain,ytest"
   ]
  },
  {
   "cell_type": "code",
   "execution_count": 61,
   "id": "72d3a46f",
   "metadata": {},
   "outputs": [],
   "source": [
    "from sklearn.neighbors import KNeighborsClassifier"
   ]
  },
  {
   "cell_type": "code",
   "execution_count": 62,
   "id": "4b6cb5e7",
   "metadata": {},
   "outputs": [],
   "source": [
    "knn_classifier=KNeighborsClassifier(n_neighbors=5,metric='minkowski',p=3)"
   ]
  },
  {
   "cell_type": "code",
   "execution_count": 63,
   "id": "5dd34478",
   "metadata": {},
   "outputs": [
    {
     "data": {
      "text/html": [
       "<style>#sk-container-id-2 {color: black;background-color: white;}#sk-container-id-2 pre{padding: 0;}#sk-container-id-2 div.sk-toggleable {background-color: white;}#sk-container-id-2 label.sk-toggleable__label {cursor: pointer;display: block;width: 100%;margin-bottom: 0;padding: 0.3em;box-sizing: border-box;text-align: center;}#sk-container-id-2 label.sk-toggleable__label-arrow:before {content: \"▸\";float: left;margin-right: 0.25em;color: #696969;}#sk-container-id-2 label.sk-toggleable__label-arrow:hover:before {color: black;}#sk-container-id-2 div.sk-estimator:hover label.sk-toggleable__label-arrow:before {color: black;}#sk-container-id-2 div.sk-toggleable__content {max-height: 0;max-width: 0;overflow: hidden;text-align: left;background-color: #f0f8ff;}#sk-container-id-2 div.sk-toggleable__content pre {margin: 0.2em;color: black;border-radius: 0.25em;background-color: #f0f8ff;}#sk-container-id-2 input.sk-toggleable__control:checked~div.sk-toggleable__content {max-height: 200px;max-width: 100%;overflow: auto;}#sk-container-id-2 input.sk-toggleable__control:checked~label.sk-toggleable__label-arrow:before {content: \"▾\";}#sk-container-id-2 div.sk-estimator input.sk-toggleable__control:checked~label.sk-toggleable__label {background-color: #d4ebff;}#sk-container-id-2 div.sk-label input.sk-toggleable__control:checked~label.sk-toggleable__label {background-color: #d4ebff;}#sk-container-id-2 input.sk-hidden--visually {border: 0;clip: rect(1px 1px 1px 1px);clip: rect(1px, 1px, 1px, 1px);height: 1px;margin: -1px;overflow: hidden;padding: 0;position: absolute;width: 1px;}#sk-container-id-2 div.sk-estimator {font-family: monospace;background-color: #f0f8ff;border: 1px dotted black;border-radius: 0.25em;box-sizing: border-box;margin-bottom: 0.5em;}#sk-container-id-2 div.sk-estimator:hover {background-color: #d4ebff;}#sk-container-id-2 div.sk-parallel-item::after {content: \"\";width: 100%;border-bottom: 1px solid gray;flex-grow: 1;}#sk-container-id-2 div.sk-label:hover label.sk-toggleable__label {background-color: #d4ebff;}#sk-container-id-2 div.sk-serial::before {content: \"\";position: absolute;border-left: 1px solid gray;box-sizing: border-box;top: 0;bottom: 0;left: 50%;z-index: 0;}#sk-container-id-2 div.sk-serial {display: flex;flex-direction: column;align-items: center;background-color: white;padding-right: 0.2em;padding-left: 0.2em;position: relative;}#sk-container-id-2 div.sk-item {position: relative;z-index: 1;}#sk-container-id-2 div.sk-parallel {display: flex;align-items: stretch;justify-content: center;background-color: white;position: relative;}#sk-container-id-2 div.sk-item::before, #sk-container-id-2 div.sk-parallel-item::before {content: \"\";position: absolute;border-left: 1px solid gray;box-sizing: border-box;top: 0;bottom: 0;left: 50%;z-index: -1;}#sk-container-id-2 div.sk-parallel-item {display: flex;flex-direction: column;z-index: 1;position: relative;background-color: white;}#sk-container-id-2 div.sk-parallel-item:first-child::after {align-self: flex-end;width: 50%;}#sk-container-id-2 div.sk-parallel-item:last-child::after {align-self: flex-start;width: 50%;}#sk-container-id-2 div.sk-parallel-item:only-child::after {width: 0;}#sk-container-id-2 div.sk-dashed-wrapped {border: 1px dashed gray;margin: 0 0.4em 0.5em 0.4em;box-sizing: border-box;padding-bottom: 0.4em;background-color: white;}#sk-container-id-2 div.sk-label label {font-family: monospace;font-weight: bold;display: inline-block;line-height: 1.2em;}#sk-container-id-2 div.sk-label-container {text-align: center;}#sk-container-id-2 div.sk-container {/* jupyter's `normalize.less` sets `[hidden] { display: none; }` but bootstrap.min.css set `[hidden] { display: none !important; }` so we also need the `!important` here to be able to override the default hidden behavior on the sphinx rendered scikit-learn.org. See: https://github.com/scikit-learn/scikit-learn/issues/21755 */display: inline-block !important;position: relative;}#sk-container-id-2 div.sk-text-repr-fallback {display: none;}</style><div id=\"sk-container-id-2\" class=\"sk-top-container\"><div class=\"sk-text-repr-fallback\"><pre>KNeighborsClassifier(p=3)</pre><b>In a Jupyter environment, please rerun this cell to show the HTML representation or trust the notebook. <br />On GitHub, the HTML representation is unable to render, please try loading this page with nbviewer.org.</b></div><div class=\"sk-container\" hidden><div class=\"sk-item\"><div class=\"sk-estimator sk-toggleable\"><input class=\"sk-toggleable__control sk-hidden--visually\" id=\"sk-estimator-id-2\" type=\"checkbox\" checked><label for=\"sk-estimator-id-2\" class=\"sk-toggleable__label sk-toggleable__label-arrow\">KNeighborsClassifier</label><div class=\"sk-toggleable__content\"><pre>KNeighborsClassifier(p=3)</pre></div></div></div></div></div>"
      ],
      "text/plain": [
       "KNeighborsClassifier(p=3)"
      ]
     },
     "execution_count": 63,
     "metadata": {},
     "output_type": "execute_result"
    }
   ],
   "source": [
    "knn_classifier.fit(xtrain,ytrain)"
   ]
  },
  {
   "cell_type": "code",
   "execution_count": 64,
   "id": "276b01fc",
   "metadata": {},
   "outputs": [
    {
     "data": {
      "text/plain": [
       "array([0, 0, 0, 1, 0, 0, 1, 0, 0, 0, 0, 0, 0, 0, 0, 1, 0, 0, 1, 0, 0, 0,\n",
       "       0, 0, 0, 0, 0, 0, 0, 0, 0, 0, 0, 0, 0, 0, 0, 0, 0, 1, 0, 0],\n",
       "      dtype=int64)"
      ]
     },
     "execution_count": 64,
     "metadata": {},
     "output_type": "execute_result"
    }
   ],
   "source": [
    "ypred=knn_classifier.predict(xtest);ypred"
   ]
  },
  {
   "cell_type": "code",
   "execution_count": 65,
   "id": "b7c1feef",
   "metadata": {},
   "outputs": [
    {
     "name": "stdout",
     "output_type": "stream",
     "text": [
      "accuracy score of the LogisticRegression model is 78.57142857142857 %\n"
     ]
    }
   ],
   "source": [
    "accuracy1=l.score(xtest,ytest)\n",
    "print(\"accuracy score of the LogisticRegression model is\",accuracy1*100,\"%\")"
   ]
  },
  {
   "cell_type": "code",
   "execution_count": null,
   "id": "24273b79",
   "metadata": {},
   "outputs": [],
   "source": []
  },
  {
   "cell_type": "code",
   "execution_count": null,
   "id": "1f234b36",
   "metadata": {},
   "outputs": [],
   "source": []
  }
 ],
 "metadata": {
  "kernelspec": {
   "display_name": "Python 3 (ipykernel)",
   "language": "python",
   "name": "python3"
  },
  "language_info": {
   "codemirror_mode": {
    "name": "ipython",
    "version": 3
   },
   "file_extension": ".py",
   "mimetype": "text/x-python",
   "name": "python",
   "nbconvert_exporter": "python",
   "pygments_lexer": "ipython3",
   "version": "3.9.7"
  }
 },
 "nbformat": 4,
 "nbformat_minor": 5
}
